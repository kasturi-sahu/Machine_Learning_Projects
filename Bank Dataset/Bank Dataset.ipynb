{
 "cells": [
  {
   "cell_type": "markdown",
   "metadata": {},
   "source": [
    "# Bank Dataset"
   ]
  },
  {
   "cell_type": "markdown",
   "metadata": {},
   "source": [
    "# Summarization of Learning"
   ]
  },
  {
   "cell_type": "markdown",
   "metadata": {},
   "source": [
    "## 9 steps of EDA\n",
    "1. Define Problem\n",
    "2. Choose right tools\n",
    "3. Collection of data\n",
    "4. Pre-profile\n",
    "5. Pre processing of data (Clean, remove unnecessary, add relevant data)\n",
    "6. Post-profile\n",
    "7. Ask right Questions\n",
    "8. Conclusion or Summarization\n",
    "9. Actionable Insights (low hanging fruits)\n"
   ]
  },
  {
   "cell_type": "markdown",
   "metadata": {},
   "source": [
    "## 7 Stages of ML\n",
    "1. Data Collection\n",
    "2. Data Preparation\n",
    "3. Choose Model\n",
    "4. Train Model\n",
    "5. Evaluate Model\n",
    "6. Improve Model\n",
    "7. Predict Model"
   ]
  },
  {
   "cell_type": "markdown",
   "metadata": {},
   "source": [
    "# Introduction"
   ]
  },
  {
   "cell_type": "markdown",
   "metadata": {},
   "source": [
    "## Problem Statement \n",
    "\n",
    "We will consider the Interest Rate as output variable and predict the best model to fit"
   ]
  },
  {
   "cell_type": "markdown",
   "metadata": {},
   "source": [
    "# Importing Packages"
   ]
  },
  {
   "cell_type": "markdown",
   "metadata": {},
   "source": [
    "## Importing and Installing the packages"
   ]
  },
  {
   "cell_type": "code",
   "execution_count": 64,
   "metadata": {},
   "outputs": [
    {
     "data": {
      "text/html": [
       "        <script type=\"text/javascript\">\n",
       "        window.PlotlyConfig = {MathJaxConfig: 'local'};\n",
       "        if (window.MathJax) {MathJax.Hub.Config({SVG: {font: \"STIX-Web\"}});}\n",
       "        if (typeof require !== 'undefined') {\n",
       "        require.undef(\"plotly\");\n",
       "        requirejs.config({\n",
       "            paths: {\n",
       "                'plotly': ['https://cdn.plot.ly/plotly-latest.min']\n",
       "            }\n",
       "        });\n",
       "        require(['plotly'], function(Plotly) {\n",
       "            window._Plotly = Plotly;\n",
       "        });\n",
       "        }\n",
       "        </script>\n",
       "        "
      ]
     },
     "metadata": {},
     "output_type": "display_data"
    }
   ],
   "source": [
    "import pandas as pd\n",
    "pd.set_option('mode.chained_assignment', None)              # To suppress pandas warnings.\n",
    "pd.set_option('display.max_colwidth', None)                 # To display all the data in each column\n",
    "pd.set_option('display.precision', 5)                       # To display values only upto three decimal places.\n",
    "pd.options.display.max_columns = 50                         # To display every column of the dataset in head()\n",
    "pd.options.display.float_format = '{:.2f}'.format  \n",
    "import numpy as np\n",
    "import seaborn as sns\n",
    "sns.set(style='whitegrid', font_scale = 1.3, color_codes=True)\n",
    "from sklearn.preprocessing import LabelEncoder\n",
    "\n",
    "import plotly.offline as py\n",
    "import plotly.graph_objs as go\n",
    "from plotly.offline import init_notebook_mode\n",
    "init_notebook_mode(connected=True)\n",
    "from plotly import tools\n",
    "\n",
    "import matplotlib.pyplot as plt\n",
    "%matplotlib inline\n",
    "\n",
    "import seaborn as sns\n",
    "sns.set(style='whitegrid', font_scale=1.3, color_codes=True)                      # To apply seaborn styles to the plots.\n",
    "\n",
    "import warnings\n",
    "\n",
    "warnings.filterwarnings('ignore')\n",
    "%matplotlib inline\n",
    "\n",
    "from datetime import datetime, timedelta                     #for datetime, as we have a date column in this dataset"
   ]
  },
  {
   "cell_type": "markdown",
   "metadata": {},
   "source": [
    "## Handling warnings"
   ]
  },
  {
   "cell_type": "code",
   "execution_count": 65,
   "metadata": {},
   "outputs": [],
   "source": [
    "warnings.filterwarnings('ignore')                                                                           # ignore warnings.\n",
    "%config IPCompleter.greedy = True                                                                      # autocomplete feature.\n",
    "pd.options.display.max_rows = None                                        # set maximum rows that can be displayed in notebook.\n",
    "pd.options.display.max_columns = None                                  # set maximum columns that can be displayed in notebook.\n",
    "pd.options.display.precision = 4                                                 # set the precision of floating point numbers."
   ]
  },
  {
   "cell_type": "markdown",
   "metadata": {},
   "source": [
    "# Loading Data"
   ]
  },
  {
   "cell_type": "code",
   "execution_count": 66,
   "metadata": {},
   "outputs": [],
   "source": [
    "# Importing training dataset using pd.read_csv\n",
    "df = pd.read_csv(\"https://raw.githubusercontent.com/insaid2018/GCD-Certification-Quiz-Data/master/Bank%20Data/bank_data.csv\")"
   ]
  },
  {
   "cell_type": "code",
   "execution_count": 67,
   "metadata": {},
   "outputs": [
    {
     "data": {
      "text/html": [
       "<div>\n",
       "<style scoped>\n",
       "    .dataframe tbody tr th:only-of-type {\n",
       "        vertical-align: middle;\n",
       "    }\n",
       "\n",
       "    .dataframe tbody tr th {\n",
       "        vertical-align: top;\n",
       "    }\n",
       "\n",
       "    .dataframe thead th {\n",
       "        text-align: right;\n",
       "    }\n",
       "</style>\n",
       "<table border=\"1\" class=\"dataframe\">\n",
       "  <thead>\n",
       "    <tr style=\"text-align: right;\">\n",
       "      <th></th>\n",
       "      <th>Unnamed: 0</th>\n",
       "      <th>Amount.Requested</th>\n",
       "      <th>Interest.Rate</th>\n",
       "      <th>Loan.Length</th>\n",
       "      <th>Loan.Purpose</th>\n",
       "      <th>Debt.To.Income.Ratio</th>\n",
       "      <th>Monthly.Income</th>\n",
       "      <th>FICO.Range</th>\n",
       "      <th>Open.CREDIT.Lines</th>\n",
       "      <th>Revolving.CREDIT.Balance</th>\n",
       "      <th>Inquiries.in.the.Last.6.Months</th>\n",
       "      <th>Employment.Length</th>\n",
       "      <th>ho_mort</th>\n",
       "      <th>ho_rent</th>\n",
       "    </tr>\n",
       "  </thead>\n",
       "  <tbody>\n",
       "    <tr>\n",
       "      <th>0</th>\n",
       "      <td>0</td>\n",
       "      <td>20000.00</td>\n",
       "      <td>8.90</td>\n",
       "      <td>36</td>\n",
       "      <td>4</td>\n",
       "      <td>14.90</td>\n",
       "      <td>6541.67</td>\n",
       "      <td>735-739</td>\n",
       "      <td>14.00</td>\n",
       "      <td>14272.00</td>\n",
       "      <td>2.00</td>\n",
       "      <td>0</td>\n",
       "      <td>1</td>\n",
       "      <td>0</td>\n",
       "    </tr>\n",
       "    <tr>\n",
       "      <th>1</th>\n",
       "      <td>1</td>\n",
       "      <td>19200.00</td>\n",
       "      <td>12.12</td>\n",
       "      <td>36</td>\n",
       "      <td>4</td>\n",
       "      <td>28.36</td>\n",
       "      <td>4583.33</td>\n",
       "      <td>715-719</td>\n",
       "      <td>12.00</td>\n",
       "      <td>11140.00</td>\n",
       "      <td>1.00</td>\n",
       "      <td>2</td>\n",
       "      <td>1</td>\n",
       "      <td>0</td>\n",
       "    </tr>\n",
       "    <tr>\n",
       "      <th>2</th>\n",
       "      <td>2</td>\n",
       "      <td>35000.00</td>\n",
       "      <td>21.98</td>\n",
       "      <td>60</td>\n",
       "      <td>4</td>\n",
       "      <td>23.81</td>\n",
       "      <td>11500.00</td>\n",
       "      <td>690-694</td>\n",
       "      <td>14.00</td>\n",
       "      <td>21977.00</td>\n",
       "      <td>1.00</td>\n",
       "      <td>2</td>\n",
       "      <td>1</td>\n",
       "      <td>0</td>\n",
       "    </tr>\n",
       "    <tr>\n",
       "      <th>3</th>\n",
       "      <td>3</td>\n",
       "      <td>10000.00</td>\n",
       "      <td>9.99</td>\n",
       "      <td>36</td>\n",
       "      <td>4</td>\n",
       "      <td>14.30</td>\n",
       "      <td>3833.33</td>\n",
       "      <td>695-699</td>\n",
       "      <td>10.00</td>\n",
       "      <td>9346.00</td>\n",
       "      <td>0.00</td>\n",
       "      <td>5</td>\n",
       "      <td>1</td>\n",
       "      <td>0</td>\n",
       "    </tr>\n",
       "    <tr>\n",
       "      <th>4</th>\n",
       "      <td>4</td>\n",
       "      <td>12000.00</td>\n",
       "      <td>11.71</td>\n",
       "      <td>36</td>\n",
       "      <td>3</td>\n",
       "      <td>18.78</td>\n",
       "      <td>3195.00</td>\n",
       "      <td>695-699</td>\n",
       "      <td>11.00</td>\n",
       "      <td>14469.00</td>\n",
       "      <td>0.00</td>\n",
       "      <td>9</td>\n",
       "      <td>0</td>\n",
       "      <td>1</td>\n",
       "    </tr>\n",
       "  </tbody>\n",
       "</table>\n",
       "</div>"
      ],
      "text/plain": [
       "   Unnamed: 0  Amount.Requested  Interest.Rate  Loan.Length  Loan.Purpose  \\\n",
       "0           0          20000.00           8.90           36             4   \n",
       "1           1          19200.00          12.12           36             4   \n",
       "2           2          35000.00          21.98           60             4   \n",
       "3           3          10000.00           9.99           36             4   \n",
       "4           4          12000.00          11.71           36             3   \n",
       "\n",
       "   Debt.To.Income.Ratio  Monthly.Income FICO.Range  Open.CREDIT.Lines  \\\n",
       "0                 14.90         6541.67    735-739              14.00   \n",
       "1                 28.36         4583.33    715-719              12.00   \n",
       "2                 23.81        11500.00    690-694              14.00   \n",
       "3                 14.30         3833.33    695-699              10.00   \n",
       "4                 18.78         3195.00    695-699              11.00   \n",
       "\n",
       "   Revolving.CREDIT.Balance  Inquiries.in.the.Last.6.Months  \\\n",
       "0                  14272.00                            2.00   \n",
       "1                  11140.00                            1.00   \n",
       "2                  21977.00                            1.00   \n",
       "3                   9346.00                            0.00   \n",
       "4                  14469.00                            0.00   \n",
       "\n",
       "   Employment.Length  ho_mort  ho_rent  \n",
       "0                  0        1        0  \n",
       "1                  2        1        0  \n",
       "2                  2        1        0  \n",
       "3                  5        1        0  \n",
       "4                  9        0        1  "
      ]
     },
     "execution_count": 67,
     "metadata": {},
     "output_type": "execute_result"
    }
   ],
   "source": [
    "# to have a quick glance of data\n",
    "df.head()"
   ]
  },
  {
   "cell_type": "code",
   "execution_count": 68,
   "metadata": {},
   "outputs": [
    {
     "name": "stdout",
     "output_type": "stream",
     "text": [
      "<class 'pandas.core.frame.DataFrame'>\n",
      "RangeIndex: 2499 entries, 0 to 2498\n",
      "Data columns (total 14 columns):\n",
      " #   Column                          Non-Null Count  Dtype  \n",
      "---  ------                          --------------  -----  \n",
      " 0   Unnamed: 0                      2499 non-null   int64  \n",
      " 1   Amount.Requested                2499 non-null   float64\n",
      " 2   Interest.Rate                   2499 non-null   float64\n",
      " 3   Loan.Length                     2499 non-null   int64  \n",
      " 4   Loan.Purpose                    2499 non-null   int64  \n",
      " 5   Debt.To.Income.Ratio            2499 non-null   float64\n",
      " 6   Monthly.Income                  2496 non-null   float64\n",
      " 7   FICO.Range                      2499 non-null   object \n",
      " 8   Open.CREDIT.Lines               2490 non-null   float64\n",
      " 9   Revolving.CREDIT.Balance        2494 non-null   float64\n",
      " 10  Inquiries.in.the.Last.6.Months  2496 non-null   float64\n",
      " 11  Employment.Length               2499 non-null   int64  \n",
      " 12  ho_mort                         2499 non-null   int64  \n",
      " 13  ho_rent                         2499 non-null   int64  \n",
      "dtypes: float64(7), int64(6), object(1)\n",
      "memory usage: 273.5+ KB\n"
     ]
    }
   ],
   "source": [
    "#to identify null, missing data and the type of Data\n",
    "df.info()"
   ]
  },
  {
   "cell_type": "code",
   "execution_count": 69,
   "metadata": {},
   "outputs": [
    {
     "data": {
      "text/plain": [
       "Index(['Unnamed: 0', 'Amount.Requested', 'Interest.Rate', 'Loan.Length',\n",
       "       'Loan.Purpose', 'Debt.To.Income.Ratio', 'Monthly.Income', 'FICO.Range',\n",
       "       'Open.CREDIT.Lines', 'Revolving.CREDIT.Balance',\n",
       "       'Inquiries.in.the.Last.6.Months', 'Employment.Length', 'ho_mort',\n",
       "       'ho_rent'],\n",
       "      dtype='object')"
      ]
     },
     "execution_count": 69,
     "metadata": {},
     "output_type": "execute_result"
    }
   ],
   "source": [
    "#listing the column names, so it is easy to copy paste later during Train/test data\n",
    "df.columns"
   ]
  },
  {
   "cell_type": "code",
   "execution_count": 70,
   "metadata": {},
   "outputs": [
    {
     "data": {
      "text/plain": [
       "(2499, 14)"
      ]
     },
     "execution_count": 70,
     "metadata": {},
     "output_type": "execute_result"
    }
   ],
   "source": [
    "# to find the shape of the data, though seen in the .info() , double checking here\n",
    "df.shape"
   ]
  },
  {
   "cell_type": "code",
   "execution_count": 71,
   "metadata": {},
   "outputs": [
    {
     "data": {
      "text/plain": [
       "Unnamed: 0                        0\n",
       "Amount.Requested                  0\n",
       "Interest.Rate                     0\n",
       "Loan.Length                       0\n",
       "Loan.Purpose                      0\n",
       "Debt.To.Income.Ratio              0\n",
       "Monthly.Income                    3\n",
       "FICO.Range                        0\n",
       "Open.CREDIT.Lines                 9\n",
       "Revolving.CREDIT.Balance          5\n",
       "Inquiries.in.the.Last.6.Months    3\n",
       "Employment.Length                 0\n",
       "ho_mort                           0\n",
       "ho_rent                           0\n",
       "dtype: int64"
      ]
     },
     "execution_count": 71,
     "metadata": {},
     "output_type": "execute_result"
    }
   ],
   "source": [
    "# to check for the null values. Already checked in .info(), double checking here\n",
    "df.isnull().sum()"
   ]
  },
  {
   "cell_type": "code",
   "execution_count": 72,
   "metadata": {
    "scrolled": true
   },
   "outputs": [
    {
     "data": {
      "text/html": [
       "<div>\n",
       "<style scoped>\n",
       "    .dataframe tbody tr th:only-of-type {\n",
       "        vertical-align: middle;\n",
       "    }\n",
       "\n",
       "    .dataframe tbody tr th {\n",
       "        vertical-align: top;\n",
       "    }\n",
       "\n",
       "    .dataframe thead th {\n",
       "        text-align: right;\n",
       "    }\n",
       "</style>\n",
       "<table border=\"1\" class=\"dataframe\">\n",
       "  <thead>\n",
       "    <tr style=\"text-align: right;\">\n",
       "      <th></th>\n",
       "      <th>Unnamed: 0</th>\n",
       "      <th>Amount.Requested</th>\n",
       "      <th>Interest.Rate</th>\n",
       "      <th>Loan.Length</th>\n",
       "      <th>Loan.Purpose</th>\n",
       "      <th>Debt.To.Income.Ratio</th>\n",
       "      <th>Monthly.Income</th>\n",
       "      <th>FICO.Range</th>\n",
       "      <th>Open.CREDIT.Lines</th>\n",
       "      <th>Revolving.CREDIT.Balance</th>\n",
       "      <th>Inquiries.in.the.Last.6.Months</th>\n",
       "      <th>Employment.Length</th>\n",
       "      <th>ho_mort</th>\n",
       "      <th>ho_rent</th>\n",
       "    </tr>\n",
       "  </thead>\n",
       "  <tbody>\n",
       "    <tr>\n",
       "      <th>count</th>\n",
       "      <td>2499.00</td>\n",
       "      <td>2499.00</td>\n",
       "      <td>2499.00</td>\n",
       "      <td>2499.00</td>\n",
       "      <td>2499.00</td>\n",
       "      <td>2499.00</td>\n",
       "      <td>2496.00</td>\n",
       "      <td>2499</td>\n",
       "      <td>2490.00</td>\n",
       "      <td>2494.00</td>\n",
       "      <td>2496.00</td>\n",
       "      <td>2499.00</td>\n",
       "      <td>2499.00</td>\n",
       "      <td>2499.00</td>\n",
       "    </tr>\n",
       "    <tr>\n",
       "      <th>unique</th>\n",
       "      <td>nan</td>\n",
       "      <td>nan</td>\n",
       "      <td>nan</td>\n",
       "      <td>nan</td>\n",
       "      <td>nan</td>\n",
       "      <td>nan</td>\n",
       "      <td>nan</td>\n",
       "      <td>38</td>\n",
       "      <td>nan</td>\n",
       "      <td>nan</td>\n",
       "      <td>nan</td>\n",
       "      <td>nan</td>\n",
       "      <td>nan</td>\n",
       "      <td>nan</td>\n",
       "    </tr>\n",
       "    <tr>\n",
       "      <th>top</th>\n",
       "      <td>nan</td>\n",
       "      <td>nan</td>\n",
       "      <td>nan</td>\n",
       "      <td>nan</td>\n",
       "      <td>nan</td>\n",
       "      <td>nan</td>\n",
       "      <td>nan</td>\n",
       "      <td>670-674</td>\n",
       "      <td>nan</td>\n",
       "      <td>nan</td>\n",
       "      <td>nan</td>\n",
       "      <td>nan</td>\n",
       "      <td>nan</td>\n",
       "      <td>nan</td>\n",
       "    </tr>\n",
       "    <tr>\n",
       "      <th>freq</th>\n",
       "      <td>nan</td>\n",
       "      <td>nan</td>\n",
       "      <td>nan</td>\n",
       "      <td>nan</td>\n",
       "      <td>nan</td>\n",
       "      <td>nan</td>\n",
       "      <td>nan</td>\n",
       "      <td>171</td>\n",
       "      <td>nan</td>\n",
       "      <td>nan</td>\n",
       "      <td>nan</td>\n",
       "      <td>nan</td>\n",
       "      <td>nan</td>\n",
       "      <td>nan</td>\n",
       "    </tr>\n",
       "    <tr>\n",
       "      <th>mean</th>\n",
       "      <td>1249.48</td>\n",
       "      <td>12408.04</td>\n",
       "      <td>13.07</td>\n",
       "      <td>41.26</td>\n",
       "      <td>3.30</td>\n",
       "      <td>15.37</td>\n",
       "      <td>5689.23</td>\n",
       "      <td>NaN</td>\n",
       "      <td>10.08</td>\n",
       "      <td>15251.12</td>\n",
       "      <td>0.91</td>\n",
       "      <td>5.22</td>\n",
       "      <td>0.46</td>\n",
       "      <td>0.46</td>\n",
       "    </tr>\n",
       "    <tr>\n",
       "      <th>std</th>\n",
       "      <td>721.98</td>\n",
       "      <td>7802.90</td>\n",
       "      <td>4.18</td>\n",
       "      <td>9.93</td>\n",
       "      <td>0.91</td>\n",
       "      <td>7.50</td>\n",
       "      <td>3964.29</td>\n",
       "      <td>NaN</td>\n",
       "      <td>4.51</td>\n",
       "      <td>18319.64</td>\n",
       "      <td>1.23</td>\n",
       "      <td>3.65</td>\n",
       "      <td>0.50</td>\n",
       "      <td>0.50</td>\n",
       "    </tr>\n",
       "    <tr>\n",
       "      <th>min</th>\n",
       "      <td>0.00</td>\n",
       "      <td>1000.00</td>\n",
       "      <td>5.42</td>\n",
       "      <td>36.00</td>\n",
       "      <td>0.00</td>\n",
       "      <td>0.00</td>\n",
       "      <td>588.50</td>\n",
       "      <td>NaN</td>\n",
       "      <td>2.00</td>\n",
       "      <td>0.00</td>\n",
       "      <td>0.00</td>\n",
       "      <td>0.00</td>\n",
       "      <td>0.00</td>\n",
       "      <td>0.00</td>\n",
       "    </tr>\n",
       "    <tr>\n",
       "      <th>25%</th>\n",
       "      <td>624.50</td>\n",
       "      <td>6000.00</td>\n",
       "      <td>10.16</td>\n",
       "      <td>36.00</td>\n",
       "      <td>3.00</td>\n",
       "      <td>9.75</td>\n",
       "      <td>3500.00</td>\n",
       "      <td>NaN</td>\n",
       "      <td>7.00</td>\n",
       "      <td>5585.75</td>\n",
       "      <td>0.00</td>\n",
       "      <td>2.00</td>\n",
       "      <td>0.00</td>\n",
       "      <td>0.00</td>\n",
       "    </tr>\n",
       "    <tr>\n",
       "      <th>50%</th>\n",
       "      <td>1249.00</td>\n",
       "      <td>10000.00</td>\n",
       "      <td>13.11</td>\n",
       "      <td>36.00</td>\n",
       "      <td>4.00</td>\n",
       "      <td>15.32</td>\n",
       "      <td>5000.00</td>\n",
       "      <td>NaN</td>\n",
       "      <td>9.00</td>\n",
       "      <td>10962.00</td>\n",
       "      <td>0.00</td>\n",
       "      <td>5.00</td>\n",
       "      <td>0.00</td>\n",
       "      <td>0.00</td>\n",
       "    </tr>\n",
       "    <tr>\n",
       "      <th>75%</th>\n",
       "      <td>1874.50</td>\n",
       "      <td>17000.00</td>\n",
       "      <td>15.80</td>\n",
       "      <td>36.00</td>\n",
       "      <td>4.00</td>\n",
       "      <td>20.65</td>\n",
       "      <td>6800.00</td>\n",
       "      <td>NaN</td>\n",
       "      <td>13.00</td>\n",
       "      <td>18888.75</td>\n",
       "      <td>1.00</td>\n",
       "      <td>10.00</td>\n",
       "      <td>1.00</td>\n",
       "      <td>1.00</td>\n",
       "    </tr>\n",
       "    <tr>\n",
       "      <th>max</th>\n",
       "      <td>2499.00</td>\n",
       "      <td>35000.00</td>\n",
       "      <td>24.89</td>\n",
       "      <td>60.00</td>\n",
       "      <td>4.00</td>\n",
       "      <td>34.91</td>\n",
       "      <td>102750.00</td>\n",
       "      <td>NaN</td>\n",
       "      <td>38.00</td>\n",
       "      <td>270800.00</td>\n",
       "      <td>9.00</td>\n",
       "      <td>10.00</td>\n",
       "      <td>1.00</td>\n",
       "      <td>1.00</td>\n",
       "    </tr>\n",
       "  </tbody>\n",
       "</table>\n",
       "</div>"
      ],
      "text/plain": [
       "        Unnamed: 0  Amount.Requested  Interest.Rate  Loan.Length  \\\n",
       "count      2499.00           2499.00        2499.00      2499.00   \n",
       "unique         nan               nan            nan          nan   \n",
       "top            nan               nan            nan          nan   \n",
       "freq           nan               nan            nan          nan   \n",
       "mean       1249.48          12408.04          13.07        41.26   \n",
       "std         721.98           7802.90           4.18         9.93   \n",
       "min           0.00           1000.00           5.42        36.00   \n",
       "25%         624.50           6000.00          10.16        36.00   \n",
       "50%        1249.00          10000.00          13.11        36.00   \n",
       "75%        1874.50          17000.00          15.80        36.00   \n",
       "max        2499.00          35000.00          24.89        60.00   \n",
       "\n",
       "        Loan.Purpose  Debt.To.Income.Ratio  Monthly.Income FICO.Range  \\\n",
       "count        2499.00               2499.00         2496.00       2499   \n",
       "unique           nan                   nan             nan         38   \n",
       "top              nan                   nan             nan    670-674   \n",
       "freq             nan                   nan             nan        171   \n",
       "mean            3.30                 15.37         5689.23        NaN   \n",
       "std             0.91                  7.50         3964.29        NaN   \n",
       "min             0.00                  0.00          588.50        NaN   \n",
       "25%             3.00                  9.75         3500.00        NaN   \n",
       "50%             4.00                 15.32         5000.00        NaN   \n",
       "75%             4.00                 20.65         6800.00        NaN   \n",
       "max             4.00                 34.91       102750.00        NaN   \n",
       "\n",
       "        Open.CREDIT.Lines  Revolving.CREDIT.Balance  \\\n",
       "count             2490.00                   2494.00   \n",
       "unique                nan                       nan   \n",
       "top                   nan                       nan   \n",
       "freq                  nan                       nan   \n",
       "mean                10.08                  15251.12   \n",
       "std                  4.51                  18319.64   \n",
       "min                  2.00                      0.00   \n",
       "25%                  7.00                   5585.75   \n",
       "50%                  9.00                  10962.00   \n",
       "75%                 13.00                  18888.75   \n",
       "max                 38.00                 270800.00   \n",
       "\n",
       "        Inquiries.in.the.Last.6.Months  Employment.Length  ho_mort  ho_rent  \n",
       "count                          2496.00            2499.00  2499.00  2499.00  \n",
       "unique                             nan                nan      nan      nan  \n",
       "top                                nan                nan      nan      nan  \n",
       "freq                               nan                nan      nan      nan  \n",
       "mean                              0.91               5.22     0.46     0.46  \n",
       "std                               1.23               3.65     0.50     0.50  \n",
       "min                               0.00               0.00     0.00     0.00  \n",
       "25%                               0.00               2.00     0.00     0.00  \n",
       "50%                               0.00               5.00     0.00     0.00  \n",
       "75%                               1.00              10.00     1.00     1.00  \n",
       "max                               9.00              10.00     1.00     1.00  "
      ]
     },
     "execution_count": 72,
     "metadata": {},
     "output_type": "execute_result"
    }
   ],
   "source": [
    "df.describe(include='all')              # Information about the data to describe the major attributes"
   ]
  },
  {
   "cell_type": "markdown",
   "metadata": {},
   "source": [
    "<span style='background:orange'> Observation: </span>\n",
    "\n",
    "- We have 2499 rows and 14 columns. \n",
    "- There are 7 Float data type, 6 Integer data type and 1 Object data type\n",
    "- There are some null values in some of the column\n",
    "- Only the FICO.Range is an object data type"
   ]
  },
  {
   "cell_type": "markdown",
   "metadata": {},
   "source": [
    "## Handling Duplciate Rows"
   ]
  },
  {
   "cell_type": "code",
   "execution_count": 184,
   "metadata": {},
   "outputs": [
    {
     "data": {
      "text/plain": [
       "(0, 14)"
      ]
     },
     "execution_count": 184,
     "metadata": {},
     "output_type": "execute_result"
    }
   ],
   "source": [
    "df[df.duplicated(keep='first')].shape"
   ]
  },
  {
   "cell_type": "code",
   "execution_count": 185,
   "metadata": {},
   "outputs": [
    {
     "name": "stdout",
     "output_type": "stream",
     "text": [
      "Data Shape [Before]: (2499, 14)\n",
      "Data Shape [After]: (2499, 14)\n",
      "Drop Ratio: 0.0 %\n"
     ]
    }
   ],
   "source": [
    "before_shape = df.shape\n",
    "print('Data Shape [Before]:', before_shape)\n",
    "\n",
    "df.drop_duplicates(inplace = True)\n",
    "\n",
    "after_shape = df.shape\n",
    "print('Data Shape [After]:', after_shape)\n",
    "\n",
    "drop_nums = before_shape[0] - after_shape[0]\n",
    "drop_percent = np.round(drop_nums / before_shape[0], decimals = 2) * 100\n",
    "\n",
    "print('Drop Ratio:', drop_percent, '%')"
   ]
  },
  {
   "cell_type": "markdown",
   "metadata": {},
   "source": [
    "<span style='background:orange'> Observation: </span>\n",
    "    \n",
    "- There are no duplicate values, we have 2499 Rows and 14 Columns"
   ]
  },
  {
   "cell_type": "markdown",
   "metadata": {},
   "source": [
    "## Handling Null Values"
   ]
  },
  {
   "cell_type": "code",
   "execution_count": 189,
   "metadata": {},
   "outputs": [
    {
     "data": {
      "text/plain": [
       "(2499, 14)"
      ]
     },
     "execution_count": 189,
     "metadata": {},
     "output_type": "execute_result"
    }
   ],
   "source": [
    "df.shape"
   ]
  },
  {
   "cell_type": "code",
   "execution_count": 190,
   "metadata": {},
   "outputs": [],
   "source": [
    "df1 = df.dropna()"
   ]
  },
  {
   "cell_type": "code",
   "execution_count": 191,
   "metadata": {},
   "outputs": [
    {
     "data": {
      "text/plain": [
       "(2484, 14)"
      ]
     },
     "execution_count": 191,
     "metadata": {},
     "output_type": "execute_result"
    }
   ],
   "source": [
    "df1.shape"
   ]
  },
  {
   "cell_type": "markdown",
   "metadata": {},
   "source": [
    "<span style='background:orange'> Observation: </span>\n",
    "    \n",
    "- After dropping the null values, we have 2484 Rows and 14 Columns"
   ]
  },
  {
   "cell_type": "markdown",
   "metadata": {},
   "source": [
    "## Dropping Unnecessary Columns"
   ]
  },
  {
   "cell_type": "markdown",
   "metadata": {},
   "source": [
    "The Feature \"Unnamed:0\" is just a representation of the indexes, so it's useless to keep it, lets remove it now"
   ]
  },
  {
   "cell_type": "code",
   "execution_count": 194,
   "metadata": {},
   "outputs": [],
   "source": [
    "# Dropping columns\n",
    "df2 = df1.drop(['Unnamed: 0'], axis=1)"
   ]
  },
  {
   "cell_type": "code",
   "execution_count": 195,
   "metadata": {},
   "outputs": [
    {
     "data": {
      "text/html": [
       "<div>\n",
       "<style scoped>\n",
       "    .dataframe tbody tr th:only-of-type {\n",
       "        vertical-align: middle;\n",
       "    }\n",
       "\n",
       "    .dataframe tbody tr th {\n",
       "        vertical-align: top;\n",
       "    }\n",
       "\n",
       "    .dataframe thead th {\n",
       "        text-align: right;\n",
       "    }\n",
       "</style>\n",
       "<table border=\"1\" class=\"dataframe\">\n",
       "  <thead>\n",
       "    <tr style=\"text-align: right;\">\n",
       "      <th></th>\n",
       "      <th>Amount.Requested</th>\n",
       "      <th>Interest.Rate</th>\n",
       "      <th>Loan.Length</th>\n",
       "      <th>Loan.Purpose</th>\n",
       "      <th>Debt.To.Income.Ratio</th>\n",
       "      <th>Monthly.Income</th>\n",
       "      <th>FICO.Range</th>\n",
       "      <th>Open.CREDIT.Lines</th>\n",
       "      <th>Revolving.CREDIT.Balance</th>\n",
       "      <th>Inquiries.in.the.Last.6.Months</th>\n",
       "      <th>Employment.Length</th>\n",
       "      <th>ho_mort</th>\n",
       "      <th>ho_rent</th>\n",
       "    </tr>\n",
       "  </thead>\n",
       "  <tbody>\n",
       "    <tr>\n",
       "      <th>0</th>\n",
       "      <td>20000.00</td>\n",
       "      <td>8.90</td>\n",
       "      <td>36</td>\n",
       "      <td>4</td>\n",
       "      <td>14.90</td>\n",
       "      <td>6541.67</td>\n",
       "      <td>735-739</td>\n",
       "      <td>14.00</td>\n",
       "      <td>14272.00</td>\n",
       "      <td>2.00</td>\n",
       "      <td>0</td>\n",
       "      <td>1</td>\n",
       "      <td>0</td>\n",
       "    </tr>\n",
       "    <tr>\n",
       "      <th>1</th>\n",
       "      <td>19200.00</td>\n",
       "      <td>12.12</td>\n",
       "      <td>36</td>\n",
       "      <td>4</td>\n",
       "      <td>28.36</td>\n",
       "      <td>4583.33</td>\n",
       "      <td>715-719</td>\n",
       "      <td>12.00</td>\n",
       "      <td>11140.00</td>\n",
       "      <td>1.00</td>\n",
       "      <td>2</td>\n",
       "      <td>1</td>\n",
       "      <td>0</td>\n",
       "    </tr>\n",
       "    <tr>\n",
       "      <th>2</th>\n",
       "      <td>35000.00</td>\n",
       "      <td>21.98</td>\n",
       "      <td>60</td>\n",
       "      <td>4</td>\n",
       "      <td>23.81</td>\n",
       "      <td>11500.00</td>\n",
       "      <td>690-694</td>\n",
       "      <td>14.00</td>\n",
       "      <td>21977.00</td>\n",
       "      <td>1.00</td>\n",
       "      <td>2</td>\n",
       "      <td>1</td>\n",
       "      <td>0</td>\n",
       "    </tr>\n",
       "    <tr>\n",
       "      <th>3</th>\n",
       "      <td>10000.00</td>\n",
       "      <td>9.99</td>\n",
       "      <td>36</td>\n",
       "      <td>4</td>\n",
       "      <td>14.30</td>\n",
       "      <td>3833.33</td>\n",
       "      <td>695-699</td>\n",
       "      <td>10.00</td>\n",
       "      <td>9346.00</td>\n",
       "      <td>0.00</td>\n",
       "      <td>5</td>\n",
       "      <td>1</td>\n",
       "      <td>0</td>\n",
       "    </tr>\n",
       "    <tr>\n",
       "      <th>4</th>\n",
       "      <td>12000.00</td>\n",
       "      <td>11.71</td>\n",
       "      <td>36</td>\n",
       "      <td>3</td>\n",
       "      <td>18.78</td>\n",
       "      <td>3195.00</td>\n",
       "      <td>695-699</td>\n",
       "      <td>11.00</td>\n",
       "      <td>14469.00</td>\n",
       "      <td>0.00</td>\n",
       "      <td>9</td>\n",
       "      <td>0</td>\n",
       "      <td>1</td>\n",
       "    </tr>\n",
       "  </tbody>\n",
       "</table>\n",
       "</div>"
      ],
      "text/plain": [
       "   Amount.Requested  Interest.Rate  Loan.Length  Loan.Purpose  \\\n",
       "0          20000.00           8.90           36             4   \n",
       "1          19200.00          12.12           36             4   \n",
       "2          35000.00          21.98           60             4   \n",
       "3          10000.00           9.99           36             4   \n",
       "4          12000.00          11.71           36             3   \n",
       "\n",
       "   Debt.To.Income.Ratio  Monthly.Income FICO.Range  Open.CREDIT.Lines  \\\n",
       "0                 14.90         6541.67    735-739              14.00   \n",
       "1                 28.36         4583.33    715-719              12.00   \n",
       "2                 23.81        11500.00    690-694              14.00   \n",
       "3                 14.30         3833.33    695-699              10.00   \n",
       "4                 18.78         3195.00    695-699              11.00   \n",
       "\n",
       "   Revolving.CREDIT.Balance  Inquiries.in.the.Last.6.Months  \\\n",
       "0                  14272.00                            2.00   \n",
       "1                  11140.00                            1.00   \n",
       "2                  21977.00                            1.00   \n",
       "3                   9346.00                            0.00   \n",
       "4                  14469.00                            0.00   \n",
       "\n",
       "   Employment.Length  ho_mort  ho_rent  \n",
       "0                  0        1        0  \n",
       "1                  2        1        0  \n",
       "2                  2        1        0  \n",
       "3                  5        1        0  \n",
       "4                  9        0        1  "
      ]
     },
     "execution_count": 195,
     "metadata": {},
     "output_type": "execute_result"
    }
   ],
   "source": [
    "df2.head()"
   ]
  },
  {
   "cell_type": "markdown",
   "metadata": {},
   "source": [
    "## Label Encoding"
   ]
  },
  {
   "cell_type": "code",
   "execution_count": 208,
   "metadata": {},
   "outputs": [],
   "source": [
    "le = LabelEncoder()\n",
    "df2[\"FICO.Range\"] = le.fit_transform(df2[\"FICO.Range\"])"
   ]
  },
  {
   "cell_type": "code",
   "execution_count": 209,
   "metadata": {},
   "outputs": [
    {
     "data": {
      "text/plain": [
       "0       5\n",
       "1       3\n",
       "2       1\n",
       "3       4\n",
       "4     125\n",
       "5     145\n",
       "6     170\n",
       "7     164\n",
       "8     157\n",
       "9     135\n",
       "10    139\n",
       "11    152\n",
       "12    130\n",
       "13    134\n",
       "14    112\n",
       "15     93\n",
       "16    112\n",
       "17     94\n",
       "18     94\n",
       "19     65\n",
       "20     53\n",
       "21     54\n",
       "22     60\n",
       "23     46\n",
       "24     46\n",
       "25     36\n",
       "26     17\n",
       "27     21\n",
       "28     28\n",
       "29     19\n",
       "30     20\n",
       "31     13\n",
       "32     11\n",
       "33     10\n",
       "34      8\n",
       "35      6\n",
       "36      1\n",
       "37      1\n",
       "Name: FICO.Range, dtype: int64"
      ]
     },
     "execution_count": 209,
     "metadata": {},
     "output_type": "execute_result"
    }
   ],
   "source": [
    "df2['FICO.Range'].value_counts().sort_index()"
   ]
  },
  {
   "cell_type": "markdown",
   "metadata": {},
   "source": [
    "## Handling Outlier"
   ]
  },
  {
   "cell_type": "code",
   "execution_count": 210,
   "metadata": {},
   "outputs": [
    {
     "data": {
      "text/plain": [
       "Amount.Requested                      AxesSubplot(0.125,0.71587;0.133621x0.16413)\n",
       "Interest.Rate                      AxesSubplot(0.285345,0.71587;0.133621x0.16413)\n",
       "Loan.Length                         AxesSubplot(0.44569,0.71587;0.133621x0.16413)\n",
       "Loan.Purpose                       AxesSubplot(0.606034,0.71587;0.133621x0.16413)\n",
       "Debt.To.Income.Ratio               AxesSubplot(0.766379,0.71587;0.133621x0.16413)\n",
       "Monthly.Income                       AxesSubplot(0.125,0.518913;0.133621x0.16413)\n",
       "FICO.Range                        AxesSubplot(0.285345,0.518913;0.133621x0.16413)\n",
       "Open.CREDIT.Lines                  AxesSubplot(0.44569,0.518913;0.133621x0.16413)\n",
       "Revolving.CREDIT.Balance          AxesSubplot(0.606034,0.518913;0.133621x0.16413)\n",
       "Inquiries.in.the.Last.6.Months    AxesSubplot(0.766379,0.518913;0.133621x0.16413)\n",
       "Employment.Length                    AxesSubplot(0.125,0.321957;0.133621x0.16413)\n",
       "ho_mort                           AxesSubplot(0.285345,0.321957;0.133621x0.16413)\n",
       "ho_rent                            AxesSubplot(0.44569,0.321957;0.133621x0.16413)\n",
       "dtype: object"
      ]
     },
     "execution_count": 210,
     "metadata": {},
     "output_type": "execute_result"
    },
    {
     "data": {
      "image/png": "[encoded data removed]",
      "text/plain": [
       "<Figure size 1080x1080 with 20 Axes>"
      ]
     },
     "metadata": {
      "needs_background": "light"
     },
     "output_type": "display_data"
    }
   ],
   "source": [
    "# Plotting the Boxplot for each column to check the outlier\n",
    "df2.plot(kind=\"box\", subplots= True, layout= (4,5), figsize= (15,15))"
   ]
  },
  {
   "cell_type": "markdown",
   "metadata": {},
   "source": [
    "<span style='background:orange'> Observation: </span>\n",
    "\n",
    "- From above image we can clear see that there are number of black dots in most of the column which are referring to the outliers, so it means most of the data are outside the distribution.\n",
    "- The second step is to remove the outliers, there are different way to remove the outliers that are find the IQR, Zscore values."
   ]
  },
  {
   "cell_type": "markdown",
   "metadata": {},
   "source": [
    "### Applying Z Score"
   ]
  },
  {
   "cell_type": "code",
   "execution_count": 211,
   "metadata": {},
   "outputs": [],
   "source": [
    "#abs is absolute value\n",
    "#df [condition], whatever condition it matches, it retains and others are removed\n",
    "#here z score <3, it is retained and Z> 3 is removed\n",
    "from scipy.stats import zscore"
   ]
  },
  {
   "cell_type": "code",
   "execution_count": 212,
   "metadata": {},
   "outputs": [
    {
     "name": "stdout",
     "output_type": "stream",
     "text": [
      "[[0.97043242 1.0005817  0.53140894 ... 1.42882832 1.08579343 0.9209855 ]\n",
      " [0.86781171 0.22872151 0.53140894 ... 0.8811108  1.08579343 0.9209855 ]\n",
      " [2.89457079 2.13480068 1.88178996 ... 0.8811108  1.08579343 0.9209855 ]\n",
      " ...\n",
      " [0.45732886 0.24350351 1.88178996 ... 1.3097593  0.9209855  0.9209855 ]\n",
      " [0.31232649 0.2195327  0.53140894 ... 1.3097593  1.08579343 0.9209855 ]\n",
      " [0.44060238 0.17159107 0.53140894 ... 1.3097593  0.9209855  1.08579343]]\n"
     ]
    }
   ],
   "source": [
    "z = np.abs(zscore(df2))\n",
    "print(z)"
   ]
  },
  {
   "cell_type": "code",
   "execution_count": 213,
   "metadata": {},
   "outputs": [
    {
     "name": "stdout",
     "output_type": "stream",
     "text": [
      "(array([   0,    0,    0, ..., 2483, 2483, 2483], dtype=int64), array([ 0,  1,  2, ..., 10, 11, 12], dtype=int64))\n",
      "(2484, 13)\n"
     ]
    }
   ],
   "source": [
    "threshold= 3\n",
    "print(np.where(z<3))\n",
    "print(df2.shape)"
   ]
  },
  {
   "cell_type": "code",
   "execution_count": 218,
   "metadata": {},
   "outputs": [],
   "source": [
    "# Assigning the value to df2 which are less the threshold value and removing the outliers\n",
    "df3 = df2[(z<3).all(axis = 1)]"
   ]
  },
  {
   "cell_type": "code",
   "execution_count": 219,
   "metadata": {},
   "outputs": [
    {
     "name": "stdout",
     "output_type": "stream",
     "text": [
      "(2484, 13)\n",
      "(2358, 13)\n",
      "Shape after removing outlier (2358, 13)\n"
     ]
    }
   ],
   "source": [
    "print(df2.shape)\n",
    "print(df3.shape)\n",
    "df2 = df3\n",
    "print(\"Shape after removing outlier\", df2.shape)"
   ]
  },
  {
   "cell_type": "markdown",
   "metadata": {},
   "source": [
    "<span style='background:orange'> Observation: </span>\n",
    "\n",
    "- We find the zscore value and then we have decided to make one threshold value as 3 which is standard of industry recommend value\n",
    "- We removed all the outliers which zscore value is greater than 3\n",
    "- After removing the outlier finaily there are 2358 rows and 13 columns presents in the data set"
   ]
  },
  {
   "cell_type": "markdown",
   "metadata": {},
   "source": [
    "# EDA (Exploratory Data Analysis)"
   ]
  },
  {
   "cell_type": "markdown",
   "metadata": {},
   "source": [
    "## Univaraiate Analysis"
   ]
  },
  {
   "cell_type": "markdown",
   "metadata": {},
   "source": [
    "## Univaraiate Analysis"
   ]
  },
  {
   "cell_type": "code",
   "execution_count": 221,
   "metadata": {},
   "outputs": [
    {
     "data": {
      "text/plain": [
       "array([[<AxesSubplot:title={'center':'Amount.Requested'}>,\n",
       "        <AxesSubplot:title={'center':'Interest.Rate'}>,\n",
       "        <AxesSubplot:title={'center':'Loan.Length'}>,\n",
       "        <AxesSubplot:title={'center':'Loan.Purpose'}>],\n",
       "       [<AxesSubplot:title={'center':'Debt.To.Income.Ratio'}>,\n",
       "        <AxesSubplot:title={'center':'Monthly.Income'}>,\n",
       "        <AxesSubplot:title={'center':'FICO.Range'}>,\n",
       "        <AxesSubplot:title={'center':'Open.CREDIT.Lines'}>],\n",
       "       [<AxesSubplot:title={'center':'Revolving.CREDIT.Balance'}>,\n",
       "        <AxesSubplot:title={'center':'Inquiries.in.the.Last.6.Months'}>,\n",
       "        <AxesSubplot:title={'center':'Employment.Length'}>,\n",
       "        <AxesSubplot:title={'center':'ho_mort'}>],\n",
       "       [<AxesSubplot:title={'center':'ho_rent'}>, <AxesSubplot:>,\n",
       "        <AxesSubplot:>, <AxesSubplot:>]], dtype=object)"
      ]
     },
     "execution_count": 221,
     "metadata": {},
     "output_type": "execute_result"
    },
    {
     "data": {
      "image/png": "[encoded data removed]",
      "text/plain": [
       "<Figure size 1080x1080 with 16 Axes>"
      ]
     },
     "metadata": {
      "needs_background": "light"
     },
     "output_type": "display_data"
    }
   ],
   "source": [
    "df3.hist(figsize = (15,15),color='g')"
   ]
  },
  {
   "cell_type": "markdown",
   "metadata": {},
   "source": [
    "<span style='background:orange'> Observation: </span>\n",
    " \n",
    "- Interest.Rate column is normally distributed over the histogram"
   ]
  },
  {
   "cell_type": "markdown",
   "metadata": {},
   "source": [
    "## Bivariate Analysis"
   ]
  },
  {
   "cell_type": "code",
   "execution_count": 227,
   "metadata": {},
   "outputs": [
    {
     "data": {
      "image/png": "[encoded data removed]",
      "text/plain": [
       "<Figure size 1080x504 with 2 Axes>"
      ]
     },
     "metadata": {
      "needs_background": "light"
     },
     "output_type": "display_data"
    }
   ],
   "source": [
    "colors_list = ['gold', 'yellowgreen', 'lightcoral', 'lightskyblue', 'lightgreen', 'red']\n",
    "figure = plt.figure(figsize = [15, 7])\n",
    "\n",
    "plt.subplot(2, 2, 1)\n",
    "sns.barplot(x='Loan.Length', y='Interest.Rate', data=df3, color='#DB5F57', ci=False)\n",
    "plt.xlabel('Loan.Length', size = 14)\n",
    "plt.ylabel('Interest.Rate', size = 14)\n",
    "plt.title('Interest.Rate vs Loan.Length', size = 16)\n",
    "\n",
    "plt.subplot(2, 2, 2)\n",
    "sns.barplot(x='Loan.Purpose', y='Interest.Rate', data=df3, color='lightskyblue', ci=False)\n",
    "plt.xlabel('Loan.Purpose', size = 14)\n",
    "plt.ylabel('Interest.Rate', size = 14)\n",
    "plt.title('Interest.Rate vs Loan.Purpose', size = 16)\n",
    "\n",
    "plt.tight_layout()\n",
    "plt.show()"
   ]
  },
  {
   "cell_type": "markdown",
   "metadata": {},
   "source": [
    "## Multi Variate Analysis"
   ]
  },
  {
   "cell_type": "markdown",
   "metadata": {},
   "source": [
    "### Correlation"
   ]
  },
  {
   "cell_type": "code",
   "execution_count": 228,
   "metadata": {},
   "outputs": [
    {
     "data": {
      "text/html": [
       "<div>\n",
       "<style scoped>\n",
       "    .dataframe tbody tr th:only-of-type {\n",
       "        vertical-align: middle;\n",
       "    }\n",
       "\n",
       "    .dataframe tbody tr th {\n",
       "        vertical-align: top;\n",
       "    }\n",
       "\n",
       "    .dataframe thead th {\n",
       "        text-align: right;\n",
       "    }\n",
       "</style>\n",
       "<table border=\"1\" class=\"dataframe\">\n",
       "  <thead>\n",
       "    <tr style=\"text-align: right;\">\n",
       "      <th></th>\n",
       "      <th>Amount.Requested</th>\n",
       "      <th>Interest.Rate</th>\n",
       "      <th>Loan.Length</th>\n",
       "      <th>Loan.Purpose</th>\n",
       "      <th>Debt.To.Income.Ratio</th>\n",
       "      <th>Monthly.Income</th>\n",
       "      <th>FICO.Range</th>\n",
       "      <th>Open.CREDIT.Lines</th>\n",
       "      <th>Revolving.CREDIT.Balance</th>\n",
       "      <th>Inquiries.in.the.Last.6.Months</th>\n",
       "      <th>Employment.Length</th>\n",
       "      <th>ho_mort</th>\n",
       "      <th>ho_rent</th>\n",
       "    </tr>\n",
       "  </thead>\n",
       "  <tbody>\n",
       "    <tr>\n",
       "      <th>Amount.Requested</th>\n",
       "      <td>1.00</td>\n",
       "      <td>0.35</td>\n",
       "      <td>0.43</td>\n",
       "      <td>0.20</td>\n",
       "      <td>0.09</td>\n",
       "      <td>0.44</td>\n",
       "      <td>0.07</td>\n",
       "      <td>0.19</td>\n",
       "      <td>0.39</td>\n",
       "      <td>-0.00</td>\n",
       "      <td>0.18</td>\n",
       "      <td>0.15</td>\n",
       "      <td>-0.12</td>\n",
       "    </tr>\n",
       "    <tr>\n",
       "      <th>Interest.Rate</th>\n",
       "      <td>0.35</td>\n",
       "      <td>1.00</td>\n",
       "      <td>0.43</td>\n",
       "      <td>0.18</td>\n",
       "      <td>0.16</td>\n",
       "      <td>0.04</td>\n",
       "      <td>-0.71</td>\n",
       "      <td>0.07</td>\n",
       "      <td>0.14</td>\n",
       "      <td>0.17</td>\n",
       "      <td>0.05</td>\n",
       "      <td>-0.06</td>\n",
       "      <td>0.07</td>\n",
       "    </tr>\n",
       "    <tr>\n",
       "      <th>Loan.Length</th>\n",
       "      <td>0.43</td>\n",
       "      <td>0.43</td>\n",
       "      <td>1.00</td>\n",
       "      <td>0.03</td>\n",
       "      <td>0.03</td>\n",
       "      <td>0.12</td>\n",
       "      <td>0.02</td>\n",
       "      <td>0.05</td>\n",
       "      <td>0.12</td>\n",
       "      <td>0.06</td>\n",
       "      <td>0.09</td>\n",
       "      <td>0.09</td>\n",
       "      <td>-0.07</td>\n",
       "    </tr>\n",
       "    <tr>\n",
       "      <th>Loan.Purpose</th>\n",
       "      <td>0.20</td>\n",
       "      <td>0.18</td>\n",
       "      <td>0.03</td>\n",
       "      <td>1.00</td>\n",
       "      <td>0.17</td>\n",
       "      <td>0.01</td>\n",
       "      <td>-0.19</td>\n",
       "      <td>0.09</td>\n",
       "      <td>0.15</td>\n",
       "      <td>-0.01</td>\n",
       "      <td>0.07</td>\n",
       "      <td>-0.01</td>\n",
       "      <td>0.05</td>\n",
       "    </tr>\n",
       "    <tr>\n",
       "      <th>Debt.To.Income.Ratio</th>\n",
       "      <td>0.09</td>\n",
       "      <td>0.16</td>\n",
       "      <td>0.03</td>\n",
       "      <td>0.17</td>\n",
       "      <td>1.00</td>\n",
       "      <td>-0.17</td>\n",
       "      <td>-0.21</td>\n",
       "      <td>0.36</td>\n",
       "      <td>0.29</td>\n",
       "      <td>0.00</td>\n",
       "      <td>0.05</td>\n",
       "      <td>-0.01</td>\n",
       "      <td>-0.01</td>\n",
       "    </tr>\n",
       "    <tr>\n",
       "      <th>Monthly.Income</th>\n",
       "      <td>0.44</td>\n",
       "      <td>0.04</td>\n",
       "      <td>0.12</td>\n",
       "      <td>0.01</td>\n",
       "      <td>-0.17</td>\n",
       "      <td>1.00</td>\n",
       "      <td>0.10</td>\n",
       "      <td>0.23</td>\n",
       "      <td>0.39</td>\n",
       "      <td>0.04</td>\n",
       "      <td>0.13</td>\n",
       "      <td>0.24</td>\n",
       "      <td>-0.19</td>\n",
       "    </tr>\n",
       "    <tr>\n",
       "      <th>FICO.Range</th>\n",
       "      <td>0.07</td>\n",
       "      <td>-0.71</td>\n",
       "      <td>0.02</td>\n",
       "      <td>-0.19</td>\n",
       "      <td>-0.21</td>\n",
       "      <td>0.10</td>\n",
       "      <td>1.00</td>\n",
       "      <td>-0.09</td>\n",
       "      <td>-0.07</td>\n",
       "      <td>-0.06</td>\n",
       "      <td>0.02</td>\n",
       "      <td>0.14</td>\n",
       "      <td>-0.13</td>\n",
       "    </tr>\n",
       "    <tr>\n",
       "      <th>Open.CREDIT.Lines</th>\n",
       "      <td>0.19</td>\n",
       "      <td>0.07</td>\n",
       "      <td>0.05</td>\n",
       "      <td>0.09</td>\n",
       "      <td>0.36</td>\n",
       "      <td>0.23</td>\n",
       "      <td>-0.09</td>\n",
       "      <td>1.00</td>\n",
       "      <td>0.36</td>\n",
       "      <td>0.09</td>\n",
       "      <td>0.08</td>\n",
       "      <td>0.15</td>\n",
       "      <td>-0.15</td>\n",
       "    </tr>\n",
       "    <tr>\n",
       "      <th>Revolving.CREDIT.Balance</th>\n",
       "      <td>0.39</td>\n",
       "      <td>0.14</td>\n",
       "      <td>0.12</td>\n",
       "      <td>0.15</td>\n",
       "      <td>0.29</td>\n",
       "      <td>0.39</td>\n",
       "      <td>-0.07</td>\n",
       "      <td>0.36</td>\n",
       "      <td>1.00</td>\n",
       "      <td>-0.02</td>\n",
       "      <td>0.18</td>\n",
       "      <td>0.19</td>\n",
       "      <td>-0.16</td>\n",
       "    </tr>\n",
       "    <tr>\n",
       "      <th>Inquiries.in.the.Last.6.Months</th>\n",
       "      <td>-0.00</td>\n",
       "      <td>0.17</td>\n",
       "      <td>0.06</td>\n",
       "      <td>-0.01</td>\n",
       "      <td>0.00</td>\n",
       "      <td>0.04</td>\n",
       "      <td>-0.06</td>\n",
       "      <td>0.09</td>\n",
       "      <td>-0.02</td>\n",
       "      <td>1.00</td>\n",
       "      <td>-0.00</td>\n",
       "      <td>0.09</td>\n",
       "      <td>-0.08</td>\n",
       "    </tr>\n",
       "    <tr>\n",
       "      <th>Employment.Length</th>\n",
       "      <td>0.18</td>\n",
       "      <td>0.05</td>\n",
       "      <td>0.09</td>\n",
       "      <td>0.07</td>\n",
       "      <td>0.05</td>\n",
       "      <td>0.13</td>\n",
       "      <td>0.02</td>\n",
       "      <td>0.08</td>\n",
       "      <td>0.18</td>\n",
       "      <td>-0.00</td>\n",
       "      <td>1.00</td>\n",
       "      <td>0.23</td>\n",
       "      <td>-0.21</td>\n",
       "    </tr>\n",
       "    <tr>\n",
       "      <th>ho_mort</th>\n",
       "      <td>0.15</td>\n",
       "      <td>-0.06</td>\n",
       "      <td>0.09</td>\n",
       "      <td>-0.01</td>\n",
       "      <td>-0.01</td>\n",
       "      <td>0.24</td>\n",
       "      <td>0.14</td>\n",
       "      <td>0.15</td>\n",
       "      <td>0.19</td>\n",
       "      <td>0.09</td>\n",
       "      <td>0.23</td>\n",
       "      <td>1.00</td>\n",
       "      <td>-0.85</td>\n",
       "    </tr>\n",
       "    <tr>\n",
       "      <th>ho_rent</th>\n",
       "      <td>-0.12</td>\n",
       "      <td>0.07</td>\n",
       "      <td>-0.07</td>\n",
       "      <td>0.05</td>\n",
       "      <td>-0.01</td>\n",
       "      <td>-0.19</td>\n",
       "      <td>-0.13</td>\n",
       "      <td>-0.15</td>\n",
       "      <td>-0.16</td>\n",
       "      <td>-0.08</td>\n",
       "      <td>-0.21</td>\n",
       "      <td>-0.85</td>\n",
       "      <td>1.00</td>\n",
       "    </tr>\n",
       "  </tbody>\n",
       "</table>\n",
       "</div>"
      ],
      "text/plain": [
       "                                Amount.Requested  Interest.Rate  Loan.Length  \\\n",
       "Amount.Requested                            1.00           0.35         0.43   \n",
       "Interest.Rate                               0.35           1.00         0.43   \n",
       "Loan.Length                                 0.43           0.43         1.00   \n",
       "Loan.Purpose                                0.20           0.18         0.03   \n",
       "Debt.To.Income.Ratio                        0.09           0.16         0.03   \n",
       "Monthly.Income                              0.44           0.04         0.12   \n",
       "FICO.Range                                  0.07          -0.71         0.02   \n",
       "Open.CREDIT.Lines                           0.19           0.07         0.05   \n",
       "Revolving.CREDIT.Balance                    0.39           0.14         0.12   \n",
       "Inquiries.in.the.Last.6.Months             -0.00           0.17         0.06   \n",
       "Employment.Length                           0.18           0.05         0.09   \n",
       "ho_mort                                     0.15          -0.06         0.09   \n",
       "ho_rent                                    -0.12           0.07        -0.07   \n",
       "\n",
       "                                Loan.Purpose  Debt.To.Income.Ratio  \\\n",
       "Amount.Requested                        0.20                  0.09   \n",
       "Interest.Rate                           0.18                  0.16   \n",
       "Loan.Length                             0.03                  0.03   \n",
       "Loan.Purpose                            1.00                  0.17   \n",
       "Debt.To.Income.Ratio                    0.17                  1.00   \n",
       "Monthly.Income                          0.01                 -0.17   \n",
       "FICO.Range                             -0.19                 -0.21   \n",
       "Open.CREDIT.Lines                       0.09                  0.36   \n",
       "Revolving.CREDIT.Balance                0.15                  0.29   \n",
       "Inquiries.in.the.Last.6.Months         -0.01                  0.00   \n",
       "Employment.Length                       0.07                  0.05   \n",
       "ho_mort                                -0.01                 -0.01   \n",
       "ho_rent                                 0.05                 -0.01   \n",
       "\n",
       "                                Monthly.Income  FICO.Range  Open.CREDIT.Lines  \\\n",
       "Amount.Requested                          0.44        0.07               0.19   \n",
       "Interest.Rate                             0.04       -0.71               0.07   \n",
       "Loan.Length                               0.12        0.02               0.05   \n",
       "Loan.Purpose                              0.01       -0.19               0.09   \n",
       "Debt.To.Income.Ratio                     -0.17       -0.21               0.36   \n",
       "Monthly.Income                            1.00        0.10               0.23   \n",
       "FICO.Range                                0.10        1.00              -0.09   \n",
       "Open.CREDIT.Lines                         0.23       -0.09               1.00   \n",
       "Revolving.CREDIT.Balance                  0.39       -0.07               0.36   \n",
       "Inquiries.in.the.Last.6.Months            0.04       -0.06               0.09   \n",
       "Employment.Length                         0.13        0.02               0.08   \n",
       "ho_mort                                   0.24        0.14               0.15   \n",
       "ho_rent                                  -0.19       -0.13              -0.15   \n",
       "\n",
       "                                Revolving.CREDIT.Balance  \\\n",
       "Amount.Requested                                    0.39   \n",
       "Interest.Rate                                       0.14   \n",
       "Loan.Length                                         0.12   \n",
       "Loan.Purpose                                        0.15   \n",
       "Debt.To.Income.Ratio                                0.29   \n",
       "Monthly.Income                                      0.39   \n",
       "FICO.Range                                         -0.07   \n",
       "Open.CREDIT.Lines                                   0.36   \n",
       "Revolving.CREDIT.Balance                            1.00   \n",
       "Inquiries.in.the.Last.6.Months                     -0.02   \n",
       "Employment.Length                                   0.18   \n",
       "ho_mort                                             0.19   \n",
       "ho_rent                                            -0.16   \n",
       "\n",
       "                                Inquiries.in.the.Last.6.Months  \\\n",
       "Amount.Requested                                         -0.00   \n",
       "Interest.Rate                                             0.17   \n",
       "Loan.Length                                               0.06   \n",
       "Loan.Purpose                                             -0.01   \n",
       "Debt.To.Income.Ratio                                      0.00   \n",
       "Monthly.Income                                            0.04   \n",
       "FICO.Range                                               -0.06   \n",
       "Open.CREDIT.Lines                                         0.09   \n",
       "Revolving.CREDIT.Balance                                 -0.02   \n",
       "Inquiries.in.the.Last.6.Months                            1.00   \n",
       "Employment.Length                                        -0.00   \n",
       "ho_mort                                                   0.09   \n",
       "ho_rent                                                  -0.08   \n",
       "\n",
       "                                Employment.Length  ho_mort  ho_rent  \n",
       "Amount.Requested                             0.18     0.15    -0.12  \n",
       "Interest.Rate                                0.05    -0.06     0.07  \n",
       "Loan.Length                                  0.09     0.09    -0.07  \n",
       "Loan.Purpose                                 0.07    -0.01     0.05  \n",
       "Debt.To.Income.Ratio                         0.05    -0.01    -0.01  \n",
       "Monthly.Income                               0.13     0.24    -0.19  \n",
       "FICO.Range                                   0.02     0.14    -0.13  \n",
       "Open.CREDIT.Lines                            0.08     0.15    -0.15  \n",
       "Revolving.CREDIT.Balance                     0.18     0.19    -0.16  \n",
       "Inquiries.in.the.Last.6.Months              -0.00     0.09    -0.08  \n",
       "Employment.Length                            1.00     0.23    -0.21  \n",
       "ho_mort                                      0.23     1.00    -0.85  \n",
       "ho_rent                                     -0.21    -0.85     1.00  "
      ]
     },
     "execution_count": 228,
     "metadata": {},
     "output_type": "execute_result"
    }
   ],
   "source": [
    "dfcor=df3.corr()\n",
    "dfcor"
   ]
  },
  {
   "cell_type": "markdown",
   "metadata": {},
   "source": [
    "### Visual Form (Heatmap)"
   ]
  },
  {
   "cell_type": "markdown",
   "metadata": {},
   "source": [
    "We can corelate the data using heatmap (visual form) and in a tabular form as well, to sort the data easily"
   ]
  },
  {
   "cell_type": "code",
   "execution_count": 229,
   "metadata": {},
   "outputs": [
    {
     "data": {
      "text/plain": [
       "<AxesSubplot:>"
      ]
     },
     "execution_count": 229,
     "metadata": {},
     "output_type": "execute_result"
    },
    {
     "data": {
      "image/png": "[encoded data removed]",
      "text/plain": [
       "<Figure size 1080x504 with 2 Axes>"
      ]
     },
     "metadata": {
      "needs_background": "light"
     },
     "output_type": "display_data"
    }
   ],
   "source": [
    "plt.figure(figsize=(15,7))\n",
    "sns.heatmap(df3.corr(),annot=True)"
   ]
  },
  {
   "cell_type": "code",
   "execution_count": 230,
   "metadata": {},
   "outputs": [
    {
     "data": {
      "text/plain": [
       "FICO.Range                       -0.71\n",
       "ho_mort                          -0.06\n",
       "Monthly.Income                    0.04\n",
       "Employment.Length                 0.05\n",
       "Open.CREDIT.Lines                 0.07\n",
       "ho_rent                           0.07\n",
       "Revolving.CREDIT.Balance          0.14\n",
       "Debt.To.Income.Ratio              0.16\n",
       "Inquiries.in.the.Last.6.Months    0.17\n",
       "Loan.Purpose                      0.18\n",
       "Amount.Requested                  0.35\n",
       "Loan.Length                       0.43\n",
       "Interest.Rate                     1.00\n",
       "Name: Interest.Rate, dtype: float64"
      ]
     },
     "execution_count": 230,
     "metadata": {},
     "output_type": "execute_result"
    }
   ],
   "source": [
    "corr_matrix = df3.corr()\n",
    "corr_matrix[\"Interest.Rate\"].sort_values(ascending=True)"
   ]
  },
  {
   "cell_type": "markdown",
   "metadata": {},
   "source": [
    "### Tabular Form, to see the top co-relations more easily"
   ]
  },
  {
   "cell_type": "code",
   "execution_count": 231,
   "metadata": {},
   "outputs": [],
   "source": [
    "def display_all(df3):\n",
    "    with pd.option_context(\"display.max_rows\", 1000, \"display.max_columns\", 1000): \n",
    "        display(df3)"
   ]
  },
  {
   "cell_type": "code",
   "execution_count": 233,
   "metadata": {},
   "outputs": [
    {
     "data": {
      "text/html": [
       "<div>\n",
       "<style scoped>\n",
       "    .dataframe tbody tr th:only-of-type {\n",
       "        vertical-align: middle;\n",
       "    }\n",
       "\n",
       "    .dataframe tbody tr th {\n",
       "        vertical-align: top;\n",
       "    }\n",
       "\n",
       "    .dataframe thead th {\n",
       "        text-align: right;\n",
       "    }\n",
       "</style>\n",
       "<table border=\"1\" class=\"dataframe\">\n",
       "  <thead>\n",
       "    <tr style=\"text-align: right;\">\n",
       "      <th></th>\n",
       "      <th>Feature1</th>\n",
       "      <th>Feature2</th>\n",
       "      <th>corr</th>\n",
       "    </tr>\n",
       "  </thead>\n",
       "  <tbody>\n",
       "    <tr>\n",
       "      <th>0</th>\n",
       "      <td>Amount.Requested</td>\n",
       "      <td>Monthly.Income</td>\n",
       "      <td>0.44</td>\n",
       "    </tr>\n",
       "    <tr>\n",
       "      <th>1</th>\n",
       "      <td>Interest.Rate</td>\n",
       "      <td>Loan.Length</td>\n",
       "      <td>0.43</td>\n",
       "    </tr>\n",
       "    <tr>\n",
       "      <th>2</th>\n",
       "      <td>Amount.Requested</td>\n",
       "      <td>Loan.Length</td>\n",
       "      <td>0.43</td>\n",
       "    </tr>\n",
       "    <tr>\n",
       "      <th>3</th>\n",
       "      <td>Monthly.Income</td>\n",
       "      <td>Revolving.CREDIT.Balance</td>\n",
       "      <td>0.39</td>\n",
       "    </tr>\n",
       "    <tr>\n",
       "      <th>4</th>\n",
       "      <td>Amount.Requested</td>\n",
       "      <td>Revolving.CREDIT.Balance</td>\n",
       "      <td>0.39</td>\n",
       "    </tr>\n",
       "    <tr>\n",
       "      <th>5</th>\n",
       "      <td>Debt.To.Income.Ratio</td>\n",
       "      <td>Open.CREDIT.Lines</td>\n",
       "      <td>0.36</td>\n",
       "    </tr>\n",
       "    <tr>\n",
       "      <th>6</th>\n",
       "      <td>Open.CREDIT.Lines</td>\n",
       "      <td>Revolving.CREDIT.Balance</td>\n",
       "      <td>0.36</td>\n",
       "    </tr>\n",
       "    <tr>\n",
       "      <th>7</th>\n",
       "      <td>Amount.Requested</td>\n",
       "      <td>Interest.Rate</td>\n",
       "      <td>0.35</td>\n",
       "    </tr>\n",
       "    <tr>\n",
       "      <th>8</th>\n",
       "      <td>Debt.To.Income.Ratio</td>\n",
       "      <td>Revolving.CREDIT.Balance</td>\n",
       "      <td>0.29</td>\n",
       "    </tr>\n",
       "    <tr>\n",
       "      <th>9</th>\n",
       "      <td>Monthly.Income</td>\n",
       "      <td>ho_mort</td>\n",
       "      <td>0.24</td>\n",
       "    </tr>\n",
       "    <tr>\n",
       "      <th>10</th>\n",
       "      <td>Monthly.Income</td>\n",
       "      <td>Open.CREDIT.Lines</td>\n",
       "      <td>0.23</td>\n",
       "    </tr>\n",
       "    <tr>\n",
       "      <th>11</th>\n",
       "      <td>Employment.Length</td>\n",
       "      <td>ho_mort</td>\n",
       "      <td>0.23</td>\n",
       "    </tr>\n",
       "    <tr>\n",
       "      <th>12</th>\n",
       "      <td>Amount.Requested</td>\n",
       "      <td>Loan.Purpose</td>\n",
       "      <td>0.20</td>\n",
       "    </tr>\n",
       "    <tr>\n",
       "      <th>13</th>\n",
       "      <td>Amount.Requested</td>\n",
       "      <td>Open.CREDIT.Lines</td>\n",
       "      <td>0.19</td>\n",
       "    </tr>\n",
       "    <tr>\n",
       "      <th>14</th>\n",
       "      <td>Revolving.CREDIT.Balance</td>\n",
       "      <td>ho_mort</td>\n",
       "      <td>0.19</td>\n",
       "    </tr>\n",
       "    <tr>\n",
       "      <th>15</th>\n",
       "      <td>Interest.Rate</td>\n",
       "      <td>Loan.Purpose</td>\n",
       "      <td>0.18</td>\n",
       "    </tr>\n",
       "    <tr>\n",
       "      <th>16</th>\n",
       "      <td>Revolving.CREDIT.Balance</td>\n",
       "      <td>Employment.Length</td>\n",
       "      <td>0.18</td>\n",
       "    </tr>\n",
       "    <tr>\n",
       "      <th>17</th>\n",
       "      <td>Amount.Requested</td>\n",
       "      <td>Employment.Length</td>\n",
       "      <td>0.18</td>\n",
       "    </tr>\n",
       "    <tr>\n",
       "      <th>18</th>\n",
       "      <td>Loan.Purpose</td>\n",
       "      <td>Debt.To.Income.Ratio</td>\n",
       "      <td>0.17</td>\n",
       "    </tr>\n",
       "    <tr>\n",
       "      <th>19</th>\n",
       "      <td>Interest.Rate</td>\n",
       "      <td>Inquiries.in.the.Last.6.Months</td>\n",
       "      <td>0.17</td>\n",
       "    </tr>\n",
       "    <tr>\n",
       "      <th>20</th>\n",
       "      <td>Interest.Rate</td>\n",
       "      <td>Debt.To.Income.Ratio</td>\n",
       "      <td>0.16</td>\n",
       "    </tr>\n",
       "    <tr>\n",
       "      <th>21</th>\n",
       "      <td>Amount.Requested</td>\n",
       "      <td>ho_mort</td>\n",
       "      <td>0.15</td>\n",
       "    </tr>\n",
       "    <tr>\n",
       "      <th>22</th>\n",
       "      <td>Loan.Purpose</td>\n",
       "      <td>Revolving.CREDIT.Balance</td>\n",
       "      <td>0.15</td>\n",
       "    </tr>\n",
       "    <tr>\n",
       "      <th>23</th>\n",
       "      <td>Open.CREDIT.Lines</td>\n",
       "      <td>ho_mort</td>\n",
       "      <td>0.15</td>\n",
       "    </tr>\n",
       "    <tr>\n",
       "      <th>24</th>\n",
       "      <td>Interest.Rate</td>\n",
       "      <td>Revolving.CREDIT.Balance</td>\n",
       "      <td>0.14</td>\n",
       "    </tr>\n",
       "    <tr>\n",
       "      <th>25</th>\n",
       "      <td>FICO.Range</td>\n",
       "      <td>ho_mort</td>\n",
       "      <td>0.14</td>\n",
       "    </tr>\n",
       "    <tr>\n",
       "      <th>26</th>\n",
       "      <td>Monthly.Income</td>\n",
       "      <td>Employment.Length</td>\n",
       "      <td>0.13</td>\n",
       "    </tr>\n",
       "    <tr>\n",
       "      <th>27</th>\n",
       "      <td>Loan.Length</td>\n",
       "      <td>Revolving.CREDIT.Balance</td>\n",
       "      <td>0.12</td>\n",
       "    </tr>\n",
       "    <tr>\n",
       "      <th>28</th>\n",
       "      <td>Loan.Length</td>\n",
       "      <td>Monthly.Income</td>\n",
       "      <td>0.12</td>\n",
       "    </tr>\n",
       "    <tr>\n",
       "      <th>29</th>\n",
       "      <td>Monthly.Income</td>\n",
       "      <td>FICO.Range</td>\n",
       "      <td>0.10</td>\n",
       "    </tr>\n",
       "    <tr>\n",
       "      <th>30</th>\n",
       "      <td>Inquiries.in.the.Last.6.Months</td>\n",
       "      <td>ho_mort</td>\n",
       "      <td>0.09</td>\n",
       "    </tr>\n",
       "    <tr>\n",
       "      <th>31</th>\n",
       "      <td>Amount.Requested</td>\n",
       "      <td>Debt.To.Income.Ratio</td>\n",
       "      <td>0.09</td>\n",
       "    </tr>\n",
       "    <tr>\n",
       "      <th>32</th>\n",
       "      <td>Loan.Purpose</td>\n",
       "      <td>Open.CREDIT.Lines</td>\n",
       "      <td>0.09</td>\n",
       "    </tr>\n",
       "    <tr>\n",
       "      <th>33</th>\n",
       "      <td>Loan.Length</td>\n",
       "      <td>ho_mort</td>\n",
       "      <td>0.09</td>\n",
       "    </tr>\n",
       "    <tr>\n",
       "      <th>34</th>\n",
       "      <td>Open.CREDIT.Lines</td>\n",
       "      <td>Inquiries.in.the.Last.6.Months</td>\n",
       "      <td>0.09</td>\n",
       "    </tr>\n",
       "    <tr>\n",
       "      <th>35</th>\n",
       "      <td>Loan.Length</td>\n",
       "      <td>Employment.Length</td>\n",
       "      <td>0.09</td>\n",
       "    </tr>\n",
       "    <tr>\n",
       "      <th>36</th>\n",
       "      <td>Open.CREDIT.Lines</td>\n",
       "      <td>Employment.Length</td>\n",
       "      <td>0.08</td>\n",
       "    </tr>\n",
       "    <tr>\n",
       "      <th>37</th>\n",
       "      <td>Loan.Purpose</td>\n",
       "      <td>Employment.Length</td>\n",
       "      <td>0.07</td>\n",
       "    </tr>\n",
       "    <tr>\n",
       "      <th>38</th>\n",
       "      <td>Amount.Requested</td>\n",
       "      <td>FICO.Range</td>\n",
       "      <td>0.07</td>\n",
       "    </tr>\n",
       "    <tr>\n",
       "      <th>39</th>\n",
       "      <td>Interest.Rate</td>\n",
       "      <td>ho_rent</td>\n",
       "      <td>0.07</td>\n",
       "    </tr>\n",
       "    <tr>\n",
       "      <th>40</th>\n",
       "      <td>Interest.Rate</td>\n",
       "      <td>Open.CREDIT.Lines</td>\n",
       "      <td>0.07</td>\n",
       "    </tr>\n",
       "    <tr>\n",
       "      <th>41</th>\n",
       "      <td>Loan.Length</td>\n",
       "      <td>Inquiries.in.the.Last.6.Months</td>\n",
       "      <td>0.06</td>\n",
       "    </tr>\n",
       "    <tr>\n",
       "      <th>42</th>\n",
       "      <td>Interest.Rate</td>\n",
       "      <td>Employment.Length</td>\n",
       "      <td>0.05</td>\n",
       "    </tr>\n",
       "    <tr>\n",
       "      <th>43</th>\n",
       "      <td>Debt.To.Income.Ratio</td>\n",
       "      <td>Employment.Length</td>\n",
       "      <td>0.05</td>\n",
       "    </tr>\n",
       "    <tr>\n",
       "      <th>44</th>\n",
       "      <td>Loan.Length</td>\n",
       "      <td>Open.CREDIT.Lines</td>\n",
       "      <td>0.05</td>\n",
       "    </tr>\n",
       "    <tr>\n",
       "      <th>45</th>\n",
       "      <td>Loan.Purpose</td>\n",
       "      <td>ho_rent</td>\n",
       "      <td>0.05</td>\n",
       "    </tr>\n",
       "    <tr>\n",
       "      <th>46</th>\n",
       "      <td>Monthly.Income</td>\n",
       "      <td>Inquiries.in.the.Last.6.Months</td>\n",
       "      <td>0.04</td>\n",
       "    </tr>\n",
       "    <tr>\n",
       "      <th>47</th>\n",
       "      <td>Interest.Rate</td>\n",
       "      <td>Monthly.Income</td>\n",
       "      <td>0.04</td>\n",
       "    </tr>\n",
       "    <tr>\n",
       "      <th>48</th>\n",
       "      <td>Loan.Length</td>\n",
       "      <td>Debt.To.Income.Ratio</td>\n",
       "      <td>0.03</td>\n",
       "    </tr>\n",
       "    <tr>\n",
       "      <th>49</th>\n",
       "      <td>Loan.Length</td>\n",
       "      <td>Loan.Purpose</td>\n",
       "      <td>0.03</td>\n",
       "    </tr>\n",
       "    <tr>\n",
       "      <th>50</th>\n",
       "      <td>FICO.Range</td>\n",
       "      <td>Employment.Length</td>\n",
       "      <td>0.02</td>\n",
       "    </tr>\n",
       "    <tr>\n",
       "      <th>51</th>\n",
       "      <td>Loan.Length</td>\n",
       "      <td>FICO.Range</td>\n",
       "      <td>0.02</td>\n",
       "    </tr>\n",
       "    <tr>\n",
       "      <th>52</th>\n",
       "      <td>Loan.Purpose</td>\n",
       "      <td>Monthly.Income</td>\n",
       "      <td>0.01</td>\n",
       "    </tr>\n",
       "    <tr>\n",
       "      <th>53</th>\n",
       "      <td>Debt.To.Income.Ratio</td>\n",
       "      <td>Inquiries.in.the.Last.6.Months</td>\n",
       "      <td>0.00</td>\n",
       "    </tr>\n",
       "    <tr>\n",
       "      <th>54</th>\n",
       "      <td>Inquiries.in.the.Last.6.Months</td>\n",
       "      <td>Employment.Length</td>\n",
       "      <td>-0.00</td>\n",
       "    </tr>\n",
       "    <tr>\n",
       "      <th>55</th>\n",
       "      <td>Amount.Requested</td>\n",
       "      <td>Inquiries.in.the.Last.6.Months</td>\n",
       "      <td>-0.00</td>\n",
       "    </tr>\n",
       "    <tr>\n",
       "      <th>56</th>\n",
       "      <td>Debt.To.Income.Ratio</td>\n",
       "      <td>ho_mort</td>\n",
       "      <td>-0.01</td>\n",
       "    </tr>\n",
       "    <tr>\n",
       "      <th>57</th>\n",
       "      <td>Loan.Purpose</td>\n",
       "      <td>ho_mort</td>\n",
       "      <td>-0.01</td>\n",
       "    </tr>\n",
       "    <tr>\n",
       "      <th>58</th>\n",
       "      <td>Loan.Purpose</td>\n",
       "      <td>Inquiries.in.the.Last.6.Months</td>\n",
       "      <td>-0.01</td>\n",
       "    </tr>\n",
       "    <tr>\n",
       "      <th>59</th>\n",
       "      <td>Debt.To.Income.Ratio</td>\n",
       "      <td>ho_rent</td>\n",
       "      <td>-0.01</td>\n",
       "    </tr>\n",
       "    <tr>\n",
       "      <th>60</th>\n",
       "      <td>Revolving.CREDIT.Balance</td>\n",
       "      <td>Inquiries.in.the.Last.6.Months</td>\n",
       "      <td>-0.02</td>\n",
       "    </tr>\n",
       "    <tr>\n",
       "      <th>61</th>\n",
       "      <td>Interest.Rate</td>\n",
       "      <td>ho_mort</td>\n",
       "      <td>-0.06</td>\n",
       "    </tr>\n",
       "    <tr>\n",
       "      <th>62</th>\n",
       "      <td>FICO.Range</td>\n",
       "      <td>Inquiries.in.the.Last.6.Months</td>\n",
       "      <td>-0.06</td>\n",
       "    </tr>\n",
       "    <tr>\n",
       "      <th>63</th>\n",
       "      <td>Loan.Length</td>\n",
       "      <td>ho_rent</td>\n",
       "      <td>-0.07</td>\n",
       "    </tr>\n",
       "    <tr>\n",
       "      <th>64</th>\n",
       "      <td>FICO.Range</td>\n",
       "      <td>Revolving.CREDIT.Balance</td>\n",
       "      <td>-0.07</td>\n",
       "    </tr>\n",
       "    <tr>\n",
       "      <th>65</th>\n",
       "      <td>Inquiries.in.the.Last.6.Months</td>\n",
       "      <td>ho_rent</td>\n",
       "      <td>-0.08</td>\n",
       "    </tr>\n",
       "    <tr>\n",
       "      <th>66</th>\n",
       "      <td>FICO.Range</td>\n",
       "      <td>Open.CREDIT.Lines</td>\n",
       "      <td>-0.09</td>\n",
       "    </tr>\n",
       "    <tr>\n",
       "      <th>67</th>\n",
       "      <td>Amount.Requested</td>\n",
       "      <td>ho_rent</td>\n",
       "      <td>-0.12</td>\n",
       "    </tr>\n",
       "    <tr>\n",
       "      <th>68</th>\n",
       "      <td>FICO.Range</td>\n",
       "      <td>ho_rent</td>\n",
       "      <td>-0.13</td>\n",
       "    </tr>\n",
       "    <tr>\n",
       "      <th>69</th>\n",
       "      <td>Open.CREDIT.Lines</td>\n",
       "      <td>ho_rent</td>\n",
       "      <td>-0.15</td>\n",
       "    </tr>\n",
       "    <tr>\n",
       "      <th>70</th>\n",
       "      <td>Revolving.CREDIT.Balance</td>\n",
       "      <td>ho_rent</td>\n",
       "      <td>-0.16</td>\n",
       "    </tr>\n",
       "    <tr>\n",
       "      <th>71</th>\n",
       "      <td>Debt.To.Income.Ratio</td>\n",
       "      <td>Monthly.Income</td>\n",
       "      <td>-0.17</td>\n",
       "    </tr>\n",
       "    <tr>\n",
       "      <th>72</th>\n",
       "      <td>Loan.Purpose</td>\n",
       "      <td>FICO.Range</td>\n",
       "      <td>-0.19</td>\n",
       "    </tr>\n",
       "    <tr>\n",
       "      <th>73</th>\n",
       "      <td>Monthly.Income</td>\n",
       "      <td>ho_rent</td>\n",
       "      <td>-0.19</td>\n",
       "    </tr>\n",
       "    <tr>\n",
       "      <th>74</th>\n",
       "      <td>Debt.To.Income.Ratio</td>\n",
       "      <td>FICO.Range</td>\n",
       "      <td>-0.21</td>\n",
       "    </tr>\n",
       "    <tr>\n",
       "      <th>75</th>\n",
       "      <td>Employment.Length</td>\n",
       "      <td>ho_rent</td>\n",
       "      <td>-0.21</td>\n",
       "    </tr>\n",
       "    <tr>\n",
       "      <th>76</th>\n",
       "      <td>Interest.Rate</td>\n",
       "      <td>FICO.Range</td>\n",
       "      <td>-0.71</td>\n",
       "    </tr>\n",
       "    <tr>\n",
       "      <th>77</th>\n",
       "      <td>ho_mort</td>\n",
       "      <td>ho_rent</td>\n",
       "      <td>-0.85</td>\n",
       "    </tr>\n",
       "  </tbody>\n",
       "</table>\n",
       "</div>"
      ],
      "text/plain": [
       "                          Feature1                        Feature2  corr\n",
       "0                 Amount.Requested                  Monthly.Income  0.44\n",
       "1                    Interest.Rate                     Loan.Length  0.43\n",
       "2                 Amount.Requested                     Loan.Length  0.43\n",
       "3                   Monthly.Income        Revolving.CREDIT.Balance  0.39\n",
       "4                 Amount.Requested        Revolving.CREDIT.Balance  0.39\n",
       "5             Debt.To.Income.Ratio               Open.CREDIT.Lines  0.36\n",
       "6                Open.CREDIT.Lines        Revolving.CREDIT.Balance  0.36\n",
       "7                 Amount.Requested                   Interest.Rate  0.35\n",
       "8             Debt.To.Income.Ratio        Revolving.CREDIT.Balance  0.29\n",
       "9                   Monthly.Income                         ho_mort  0.24\n",
       "10                  Monthly.Income               Open.CREDIT.Lines  0.23\n",
       "11               Employment.Length                         ho_mort  0.23\n",
       "12                Amount.Requested                    Loan.Purpose  0.20\n",
       "13                Amount.Requested               Open.CREDIT.Lines  0.19\n",
       "14        Revolving.CREDIT.Balance                         ho_mort  0.19\n",
       "15                   Interest.Rate                    Loan.Purpose  0.18\n",
       "16        Revolving.CREDIT.Balance               Employment.Length  0.18\n",
       "17                Amount.Requested               Employment.Length  0.18\n",
       "18                    Loan.Purpose            Debt.To.Income.Ratio  0.17\n",
       "19                   Interest.Rate  Inquiries.in.the.Last.6.Months  0.17\n",
       "20                   Interest.Rate            Debt.To.Income.Ratio  0.16\n",
       "21                Amount.Requested                         ho_mort  0.15\n",
       "22                    Loan.Purpose        Revolving.CREDIT.Balance  0.15\n",
       "23               Open.CREDIT.Lines                         ho_mort  0.15\n",
       "24                   Interest.Rate        Revolving.CREDIT.Balance  0.14\n",
       "25                      FICO.Range                         ho_mort  0.14\n",
       "26                  Monthly.Income               Employment.Length  0.13\n",
       "27                     Loan.Length        Revolving.CREDIT.Balance  0.12\n",
       "28                     Loan.Length                  Monthly.Income  0.12\n",
       "29                  Monthly.Income                      FICO.Range  0.10\n",
       "30  Inquiries.in.the.Last.6.Months                         ho_mort  0.09\n",
       "31                Amount.Requested            Debt.To.Income.Ratio  0.09\n",
       "32                    Loan.Purpose               Open.CREDIT.Lines  0.09\n",
       "33                     Loan.Length                         ho_mort  0.09\n",
       "34               Open.CREDIT.Lines  Inquiries.in.the.Last.6.Months  0.09\n",
       "35                     Loan.Length               Employment.Length  0.09\n",
       "36               Open.CREDIT.Lines               Employment.Length  0.08\n",
       "37                    Loan.Purpose               Employment.Length  0.07\n",
       "38                Amount.Requested                      FICO.Range  0.07\n",
       "39                   Interest.Rate                         ho_rent  0.07\n",
       "40                   Interest.Rate               Open.CREDIT.Lines  0.07\n",
       "41                     Loan.Length  Inquiries.in.the.Last.6.Months  0.06\n",
       "42                   Interest.Rate               Employment.Length  0.05\n",
       "43            Debt.To.Income.Ratio               Employment.Length  0.05\n",
       "44                     Loan.Length               Open.CREDIT.Lines  0.05\n",
       "45                    Loan.Purpose                         ho_rent  0.05\n",
       "46                  Monthly.Income  Inquiries.in.the.Last.6.Months  0.04\n",
       "47                   Interest.Rate                  Monthly.Income  0.04\n",
       "48                     Loan.Length            Debt.To.Income.Ratio  0.03\n",
       "49                     Loan.Length                    Loan.Purpose  0.03\n",
       "50                      FICO.Range               Employment.Length  0.02\n",
       "51                     Loan.Length                      FICO.Range  0.02\n",
       "52                    Loan.Purpose                  Monthly.Income  0.01\n",
       "53            Debt.To.Income.Ratio  Inquiries.in.the.Last.6.Months  0.00\n",
       "54  Inquiries.in.the.Last.6.Months               Employment.Length -0.00\n",
       "55                Amount.Requested  Inquiries.in.the.Last.6.Months -0.00\n",
       "56            Debt.To.Income.Ratio                         ho_mort -0.01\n",
       "57                    Loan.Purpose                         ho_mort -0.01\n",
       "58                    Loan.Purpose  Inquiries.in.the.Last.6.Months -0.01\n",
       "59            Debt.To.Income.Ratio                         ho_rent -0.01\n",
       "60        Revolving.CREDIT.Balance  Inquiries.in.the.Last.6.Months -0.02\n",
       "61                   Interest.Rate                         ho_mort -0.06\n",
       "62                      FICO.Range  Inquiries.in.the.Last.6.Months -0.06\n",
       "63                     Loan.Length                         ho_rent -0.07\n",
       "64                      FICO.Range        Revolving.CREDIT.Balance -0.07\n",
       "65  Inquiries.in.the.Last.6.Months                         ho_rent -0.08\n",
       "66                      FICO.Range               Open.CREDIT.Lines -0.09\n",
       "67                Amount.Requested                         ho_rent -0.12\n",
       "68                      FICO.Range                         ho_rent -0.13\n",
       "69               Open.CREDIT.Lines                         ho_rent -0.15\n",
       "70        Revolving.CREDIT.Balance                         ho_rent -0.16\n",
       "71            Debt.To.Income.Ratio                  Monthly.Income -0.17\n",
       "72                    Loan.Purpose                      FICO.Range -0.19\n",
       "73                  Monthly.Income                         ho_rent -0.19\n",
       "74            Debt.To.Income.Ratio                      FICO.Range -0.21\n",
       "75               Employment.Length                         ho_rent -0.21\n",
       "76                   Interest.Rate                      FICO.Range -0.71\n",
       "77                         ho_mort                         ho_rent -0.85"
      ]
     },
     "metadata": {},
     "output_type": "display_data"
    }
   ],
   "source": [
    "def corrank(X):\n",
    "    import itertools\n",
    "    df3 = pd.DataFrame([[i,j,X.corr().loc[i,j]] for i,j in list(itertools.combinations(X.corr(), 2))],columns=['Feature1','Feature2','corr'])    \n",
    "    return df3.sort_values(by='corr',ascending=False).reset_index(drop=True)\n",
    "\n",
    "# prints a descending list of correlation pair (Max on top)\n",
    "display_all(corrank(df3))"
   ]
  },
  {
   "cell_type": "markdown",
   "metadata": {},
   "source": [
    "<span style='background:orange'> Observation: </span>\n",
    " \n",
    "- Amount.Requested and Monthly.Income are highly Correlated to each other\n"
   ]
  },
  {
   "cell_type": "markdown",
   "metadata": {},
   "source": [
    "### Correlation with Variable"
   ]
  },
  {
   "cell_type": "code",
   "execution_count": 235,
   "metadata": {},
   "outputs": [
    {
     "data": {
      "image/png": "[encoded data removed]",
      "text/plain": [
       "<Figure size 1584x504 with 1 Axes>"
      ]
     },
     "metadata": {
      "needs_background": "light"
     },
     "output_type": "display_data"
    }
   ],
   "source": [
    "plt.figure(figsize=(22,7))\n",
    "df3.corr()['Interest.Rate'].sort_values(ascending=False).drop(['Interest.Rate']).plot(kind=\"bar\",color='c')\n",
    "plt.xlabel(\"Feature\",fontsize=14)\n",
    "plt.ylabel(\"Column with target variable\",fontsize=14)\n",
    "plt.title(\"Correlation with Variable\",fontsize=14)\n",
    "plt.show()"
   ]
  },
  {
   "cell_type": "markdown",
   "metadata": {},
   "source": [
    "<span style='background:orange'> Observation: </span>\n",
    "\n",
    "- We have seen multiple ways to check the co-relation with the target varialbe\n",
    "- The last graph makes it very clear that \"Monthly.Income\" is close to 0 co-relation\n",
    "- All the Features have positive or a negative co-relation "
   ]
  },
  {
   "cell_type": "markdown",
   "metadata": {},
   "source": [
    "## Skewness"
   ]
  },
  {
   "cell_type": "code",
   "execution_count": 236,
   "metadata": {},
   "outputs": [
    {
     "data": {
      "text/plain": [
       "Amount.Requested                  0.90\n",
       "Interest.Rate                     0.27\n",
       "Loan.Length                       1.34\n",
       "Loan.Purpose                     -1.21\n",
       "Debt.To.Income.Ratio              0.16\n",
       "Monthly.Income                    1.24\n",
       "FICO.Range                        0.79\n",
       "Open.CREDIT.Lines                 0.60\n",
       "Revolving.CREDIT.Balance          1.55\n",
       "Inquiries.in.the.Last.6.Months    1.16\n",
       "Employment.Length                 0.06\n",
       "ho_mort                           0.23\n",
       "ho_rent                           0.11\n",
       "dtype: float64"
      ]
     },
     "execution_count": 236,
     "metadata": {},
     "output_type": "execute_result"
    }
   ],
   "source": [
    "df3.skew()"
   ]
  },
  {
   "cell_type": "code",
   "execution_count": 237,
   "metadata": {},
   "outputs": [
    {
     "name": "stdout",
     "output_type": "stream",
     "text": [
      "Number of numerical columns:  13\n",
      "Number of columns which are skewed not in -0.5 to +0.5 range:  8\n"
     ]
    }
   ],
   "source": [
    "print(\"Number of numerical columns: \",len(df3.skew()))\n",
    "print(\"Number of columns which are skewed not in -0.5 to +0.5 range: \",len(df3.skew().loc[abs(df3.skew())>0.5]))"
   ]
  },
  {
   "cell_type": "markdown",
   "metadata": {},
   "source": [
    "**Note:** Before handling skewness lets remove our target column(y)"
   ]
  },
  {
   "cell_type": "code",
   "execution_count": 238,
   "metadata": {},
   "outputs": [],
   "source": [
    "toskew_df2=df3.drop(columns=[\"Interest.Rate\"])\n",
    "y=df3[[\"Interest.Rate\"]]"
   ]
  },
  {
   "cell_type": "code",
   "execution_count": 239,
   "metadata": {},
   "outputs": [],
   "source": [
    "#lets treat the skewness in the X datset, for which skewness is present\n",
    "import numpy as np\n",
    "for index in toskew_df2.skew().index:\n",
    "    if toskew_df2.skew().loc[index]>0.5:\n",
    "        toskew_df2[index]=np.log1p(toskew_df2[index])\n",
    "    if toskew_df2.skew().loc[index]<-0.5:\n",
    "        toskew_df2[index]=np.square(toskew_df2[index])"
   ]
  },
  {
   "cell_type": "code",
   "execution_count": 240,
   "metadata": {},
   "outputs": [
    {
     "name": "stdout",
     "output_type": "stream",
     "text": [
      "Number of numerical columns:  12\n",
      "Number of columns which are skewed not in -0.5 to +0.5 range:  4\n"
     ]
    }
   ],
   "source": [
    "#lets again check, how many columns are still skewed\n",
    "print(\"Number of numerical columns: \",len(toskew_df2.skew()))\n",
    "print(\"Number of columns which are skewed not in -0.5 to +0.5 range: \",len(toskew_df2.skew().loc[abs(toskew_df2.skew())>0.5]))"
   ]
  },
  {
   "cell_type": "code",
   "execution_count": 241,
   "metadata": {},
   "outputs": [
    {
     "data": {
      "text/plain": [
       "Amount.Requested                 -0.37\n",
       "Loan.Length                       1.34\n",
       "Loan.Purpose                     -0.73\n",
       "Debt.To.Income.Ratio              0.16\n",
       "Monthly.Income                   -0.19\n",
       "FICO.Range                       -0.29\n",
       "Open.CREDIT.Lines                -0.35\n",
       "Revolving.CREDIT.Balance         -1.45\n",
       "Inquiries.in.the.Last.6.Months    0.54\n",
       "Employment.Length                 0.06\n",
       "ho_mort                           0.23\n",
       "ho_rent                           0.11\n",
       "dtype: float64"
      ]
     },
     "execution_count": 241,
     "metadata": {},
     "output_type": "execute_result"
    }
   ],
   "source": [
    "toskew_df2.skew()"
   ]
  },
  {
   "cell_type": "markdown",
   "metadata": {},
   "source": [
    "**Note:** As there is still some values have values far from 0, we will drop another column whose corelation is nearer to 0"
   ]
  },
  {
   "cell_type": "code",
   "execution_count": 242,
   "metadata": {},
   "outputs": [],
   "source": [
    "toskew_df3=toskew_df2.drop(columns=[\"Monthly.Income\"])\n",
    "y=toskew_df2[[\"Monthly.Income\"]]"
   ]
  },
  {
   "cell_type": "code",
   "execution_count": 243,
   "metadata": {},
   "outputs": [],
   "source": [
    "#lets treat the skewness in the X datset, for which skewness is present\n",
    "import numpy as np\n",
    "for index in toskew_df3.skew().index:\n",
    "    if toskew_df3.skew().loc[index]>0.5:\n",
    "        toskew_df3[index]=np.log1p(toskew_df3[index])\n",
    "    if toskew_df3.skew().loc[index]<-0.5:\n",
    "        toskew_df3[index]=np.square(toskew_df3[index])"
   ]
  },
  {
   "cell_type": "code",
   "execution_count": 244,
   "metadata": {},
   "outputs": [
    {
     "name": "stdout",
     "output_type": "stream",
     "text": [
      "Number of numerical columns:  11\n",
      "Number of columns which are skewed not in -0.5 to +0.5 range:  1\n"
     ]
    }
   ],
   "source": [
    "#lets again check, how many columns are still skewed\n",
    "print(\"Number of numerical columns: \",len(toskew_df3.skew()))\n",
    "print(\"Number of columns which are skewed not in -0.5 to +0.5 range: \",len(toskew_df3.skew().loc[abs(toskew_df3.skew())>0.5]))"
   ]
  },
  {
   "cell_type": "markdown",
   "metadata": {},
   "source": [
    "toskew_df3.skew()"
   ]
  },
  {
   "cell_type": "markdown",
   "metadata": {},
   "source": [
    "<span style='background:orange'> Observation: </span>\n",
    "\n",
    "- We first calculated the skew value and some of the column skew value are far from zero\n",
    "- The best skew value for normally distributes is very close to zero, so we are using “log1p” method to make the skew value near to zero\n",
    "- In the last cell I am again checking the skewness value and there is difference between the first skewness value and second, now the skewness value of each column is near to zero\n",
    "- Making the skewness value near to zero will help to get better score"
   ]
  },
  {
   "cell_type": "markdown",
   "metadata": {},
   "source": [
    "## Standard Scalar"
   ]
  },
  {
   "cell_type": "markdown",
   "metadata": {},
   "source": [
    "I am using the standard scaling method on x variable"
   ]
  },
  {
   "cell_type": "code",
   "execution_count": 251,
   "metadata": {},
   "outputs": [
    {
     "data": {
      "text/html": [
       "<div>\n",
       "<style scoped>\n",
       "    .dataframe tbody tr th:only-of-type {\n",
       "        vertical-align: middle;\n",
       "    }\n",
       "\n",
       "    .dataframe tbody tr th {\n",
       "        vertical-align: top;\n",
       "    }\n",
       "\n",
       "    .dataframe thead th {\n",
       "        text-align: right;\n",
       "    }\n",
       "</style>\n",
       "<table border=\"1\" class=\"dataframe\">\n",
       "  <thead>\n",
       "    <tr style=\"text-align: right;\">\n",
       "      <th></th>\n",
       "      <th>Amount.Requested</th>\n",
       "      <th>Loan.Length</th>\n",
       "      <th>Loan.Purpose</th>\n",
       "      <th>Debt.To.Income.Ratio</th>\n",
       "      <th>FICO.Range</th>\n",
       "      <th>Open.CREDIT.Lines</th>\n",
       "      <th>Revolving.CREDIT.Balance</th>\n",
       "      <th>Inquiries.in.the.Last.6.Months</th>\n",
       "      <th>Employment.Length</th>\n",
       "      <th>ho_mort</th>\n",
       "      <th>ho_rent</th>\n",
       "    </tr>\n",
       "  </thead>\n",
       "  <tbody>\n",
       "    <tr>\n",
       "      <th>count</th>\n",
       "      <td>2358.00</td>\n",
       "      <td>2358.00</td>\n",
       "      <td>2358.00</td>\n",
       "      <td>2358.00</td>\n",
       "      <td>2358.00</td>\n",
       "      <td>2358.00</td>\n",
       "      <td>2358.00</td>\n",
       "      <td>2358.00</td>\n",
       "      <td>2358.00</td>\n",
       "      <td>2358.00</td>\n",
       "      <td>2358.00</td>\n",
       "    </tr>\n",
       "    <tr>\n",
       "      <th>mean</th>\n",
       "      <td>85.17</td>\n",
       "      <td>1.55</td>\n",
       "      <td>164.23</td>\n",
       "      <td>15.43</td>\n",
       "      <td>2.52</td>\n",
       "      <td>2.31</td>\n",
       "      <td>7347.79</td>\n",
       "      <td>0.32</td>\n",
       "      <td>5.21</td>\n",
       "      <td>0.44</td>\n",
       "      <td>0.47</td>\n",
       "    </tr>\n",
       "    <tr>\n",
       "      <th>std</th>\n",
       "      <td>12.65</td>\n",
       "      <td>0.04</td>\n",
       "      <td>102.16</td>\n",
       "      <td>7.48</td>\n",
       "      <td>0.50</td>\n",
       "      <td>0.41</td>\n",
       "      <td>2896.38</td>\n",
       "      <td>0.34</td>\n",
       "      <td>3.64</td>\n",
       "      <td>0.50</td>\n",
       "      <td>0.50</td>\n",
       "    </tr>\n",
       "    <tr>\n",
       "      <th>min</th>\n",
       "      <td>47.73</td>\n",
       "      <td>1.53</td>\n",
       "      <td>1.00</td>\n",
       "      <td>0.00</td>\n",
       "      <td>0.00</td>\n",
       "      <td>1.10</td>\n",
       "      <td>0.00</td>\n",
       "      <td>0.00</td>\n",
       "      <td>0.00</td>\n",
       "      <td>0.00</td>\n",
       "      <td>0.00</td>\n",
       "    </tr>\n",
       "    <tr>\n",
       "      <th>25%</th>\n",
       "      <td>75.68</td>\n",
       "      <td>1.53</td>\n",
       "      <td>81.00</td>\n",
       "      <td>9.75</td>\n",
       "      <td>2.20</td>\n",
       "      <td>2.08</td>\n",
       "      <td>5555.72</td>\n",
       "      <td>0.00</td>\n",
       "      <td>2.00</td>\n",
       "      <td>0.00</td>\n",
       "      <td>0.00</td>\n",
       "    </tr>\n",
       "    <tr>\n",
       "      <th>50%</th>\n",
       "      <td>84.83</td>\n",
       "      <td>1.53</td>\n",
       "      <td>256.00</td>\n",
       "      <td>15.32</td>\n",
       "      <td>2.56</td>\n",
       "      <td>2.30</td>\n",
       "      <td>7433.36</td>\n",
       "      <td>0.00</td>\n",
       "      <td>5.00</td>\n",
       "      <td>0.00</td>\n",
       "      <td>0.00</td>\n",
       "    </tr>\n",
       "    <tr>\n",
       "      <th>75%</th>\n",
       "      <td>94.54</td>\n",
       "      <td>1.53</td>\n",
       "      <td>256.00</td>\n",
       "      <td>20.70</td>\n",
       "      <td>2.89</td>\n",
       "      <td>2.64</td>\n",
       "      <td>9286.78</td>\n",
       "      <td>0.53</td>\n",
       "      <td>10.00</td>\n",
       "      <td>1.00</td>\n",
       "      <td>1.00</td>\n",
       "    </tr>\n",
       "    <tr>\n",
       "      <th>max</th>\n",
       "      <td>109.48</td>\n",
       "      <td>1.63</td>\n",
       "      <td>256.00</td>\n",
       "      <td>34.91</td>\n",
       "      <td>3.56</td>\n",
       "      <td>3.18</td>\n",
       "      <td>15380.40</td>\n",
       "      <td>0.96</td>\n",
       "      <td>10.00</td>\n",
       "      <td>1.00</td>\n",
       "      <td>1.00</td>\n",
       "    </tr>\n",
       "  </tbody>\n",
       "</table>\n",
       "</div>"
      ],
      "text/plain": [
       "       Amount.Requested  Loan.Length  Loan.Purpose  Debt.To.Income.Ratio  \\\n",
       "count           2358.00      2358.00       2358.00               2358.00   \n",
       "mean              85.17         1.55        164.23                 15.43   \n",
       "std               12.65         0.04        102.16                  7.48   \n",
       "min               47.73         1.53          1.00                  0.00   \n",
       "25%               75.68         1.53         81.00                  9.75   \n",
       "50%               84.83         1.53        256.00                 15.32   \n",
       "75%               94.54         1.53        256.00                 20.70   \n",
       "max              109.48         1.63        256.00                 34.91   \n",
       "\n",
       "       FICO.Range  Open.CREDIT.Lines  Revolving.CREDIT.Balance  \\\n",
       "count     2358.00            2358.00                   2358.00   \n",
       "mean         2.52               2.31                   7347.79   \n",
       "std          0.50               0.41                   2896.38   \n",
       "min          0.00               1.10                      0.00   \n",
       "25%          2.20               2.08                   5555.72   \n",
       "50%          2.56               2.30                   7433.36   \n",
       "75%          2.89               2.64                   9286.78   \n",
       "max          3.56               3.18                  15380.40   \n",
       "\n",
       "       Inquiries.in.the.Last.6.Months  Employment.Length  ho_mort  ho_rent  \n",
       "count                         2358.00            2358.00  2358.00  2358.00  \n",
       "mean                             0.32               5.21     0.44     0.47  \n",
       "std                              0.34               3.64     0.50     0.50  \n",
       "min                              0.00               0.00     0.00     0.00  \n",
       "25%                              0.00               2.00     0.00     0.00  \n",
       "50%                              0.00               5.00     0.00     0.00  \n",
       "75%                              0.53              10.00     1.00     1.00  \n",
       "max                              0.96              10.00     1.00     1.00  "
      ]
     },
     "execution_count": 251,
     "metadata": {},
     "output_type": "execute_result"
    }
   ],
   "source": [
    "toskew_df3.describe()"
   ]
  },
  {
   "cell_type": "code",
   "execution_count": 252,
   "metadata": {},
   "outputs": [],
   "source": [
    "from sklearn.preprocessing import StandardScaler\n",
    "sc=StandardScaler()\n",
    "sc.fit(toskew_df3)\n",
    "x=sc.transform(toskew_df3)\n",
    "x=pd.DataFrame(toskew_df3)"
   ]
  },
  {
   "cell_type": "code",
   "execution_count": 253,
   "metadata": {},
   "outputs": [
    {
     "data": {
      "text/html": [
       "<div>\n",
       "<style scoped>\n",
       "    .dataframe tbody tr th:only-of-type {\n",
       "        vertical-align: middle;\n",
       "    }\n",
       "\n",
       "    .dataframe tbody tr th {\n",
       "        vertical-align: top;\n",
       "    }\n",
       "\n",
       "    .dataframe thead th {\n",
       "        text-align: right;\n",
       "    }\n",
       "</style>\n",
       "<table border=\"1\" class=\"dataframe\">\n",
       "  <thead>\n",
       "    <tr style=\"text-align: right;\">\n",
       "      <th></th>\n",
       "      <th>Amount.Requested</th>\n",
       "      <th>Loan.Length</th>\n",
       "      <th>Loan.Purpose</th>\n",
       "      <th>Debt.To.Income.Ratio</th>\n",
       "      <th>FICO.Range</th>\n",
       "      <th>Open.CREDIT.Lines</th>\n",
       "      <th>Revolving.CREDIT.Balance</th>\n",
       "      <th>Inquiries.in.the.Last.6.Months</th>\n",
       "      <th>Employment.Length</th>\n",
       "      <th>ho_mort</th>\n",
       "      <th>ho_rent</th>\n",
       "    </tr>\n",
       "  </thead>\n",
       "  <tbody>\n",
       "    <tr>\n",
       "      <th>count</th>\n",
       "      <td>2358.00</td>\n",
       "      <td>2358.00</td>\n",
       "      <td>2358.00</td>\n",
       "      <td>2358.00</td>\n",
       "      <td>2358.00</td>\n",
       "      <td>2358.00</td>\n",
       "      <td>2358.00</td>\n",
       "      <td>2358.00</td>\n",
       "      <td>2358.00</td>\n",
       "      <td>2358.00</td>\n",
       "      <td>2358.00</td>\n",
       "    </tr>\n",
       "    <tr>\n",
       "      <th>mean</th>\n",
       "      <td>85.17</td>\n",
       "      <td>1.55</td>\n",
       "      <td>164.23</td>\n",
       "      <td>15.43</td>\n",
       "      <td>2.52</td>\n",
       "      <td>2.31</td>\n",
       "      <td>7347.79</td>\n",
       "      <td>0.32</td>\n",
       "      <td>5.21</td>\n",
       "      <td>0.44</td>\n",
       "      <td>0.47</td>\n",
       "    </tr>\n",
       "    <tr>\n",
       "      <th>std</th>\n",
       "      <td>12.65</td>\n",
       "      <td>0.04</td>\n",
       "      <td>102.16</td>\n",
       "      <td>7.48</td>\n",
       "      <td>0.50</td>\n",
       "      <td>0.41</td>\n",
       "      <td>2896.38</td>\n",
       "      <td>0.34</td>\n",
       "      <td>3.64</td>\n",
       "      <td>0.50</td>\n",
       "      <td>0.50</td>\n",
       "    </tr>\n",
       "    <tr>\n",
       "      <th>min</th>\n",
       "      <td>47.73</td>\n",
       "      <td>1.53</td>\n",
       "      <td>1.00</td>\n",
       "      <td>0.00</td>\n",
       "      <td>0.00</td>\n",
       "      <td>1.10</td>\n",
       "      <td>0.00</td>\n",
       "      <td>0.00</td>\n",
       "      <td>0.00</td>\n",
       "      <td>0.00</td>\n",
       "      <td>0.00</td>\n",
       "    </tr>\n",
       "    <tr>\n",
       "      <th>25%</th>\n",
       "      <td>75.68</td>\n",
       "      <td>1.53</td>\n",
       "      <td>81.00</td>\n",
       "      <td>9.75</td>\n",
       "      <td>2.20</td>\n",
       "      <td>2.08</td>\n",
       "      <td>5555.72</td>\n",
       "      <td>0.00</td>\n",
       "      <td>2.00</td>\n",
       "      <td>0.00</td>\n",
       "      <td>0.00</td>\n",
       "    </tr>\n",
       "    <tr>\n",
       "      <th>50%</th>\n",
       "      <td>84.83</td>\n",
       "      <td>1.53</td>\n",
       "      <td>256.00</td>\n",
       "      <td>15.32</td>\n",
       "      <td>2.56</td>\n",
       "      <td>2.30</td>\n",
       "      <td>7433.36</td>\n",
       "      <td>0.00</td>\n",
       "      <td>5.00</td>\n",
       "      <td>0.00</td>\n",
       "      <td>0.00</td>\n",
       "    </tr>\n",
       "    <tr>\n",
       "      <th>75%</th>\n",
       "      <td>94.54</td>\n",
       "      <td>1.53</td>\n",
       "      <td>256.00</td>\n",
       "      <td>20.70</td>\n",
       "      <td>2.89</td>\n",
       "      <td>2.64</td>\n",
       "      <td>9286.78</td>\n",
       "      <td>0.53</td>\n",
       "      <td>10.00</td>\n",
       "      <td>1.00</td>\n",
       "      <td>1.00</td>\n",
       "    </tr>\n",
       "    <tr>\n",
       "      <th>max</th>\n",
       "      <td>109.48</td>\n",
       "      <td>1.63</td>\n",
       "      <td>256.00</td>\n",
       "      <td>34.91</td>\n",
       "      <td>3.56</td>\n",
       "      <td>3.18</td>\n",
       "      <td>15380.40</td>\n",
       "      <td>0.96</td>\n",
       "      <td>10.00</td>\n",
       "      <td>1.00</td>\n",
       "      <td>1.00</td>\n",
       "    </tr>\n",
       "  </tbody>\n",
       "</table>\n",
       "</div>"
      ],
      "text/plain": [
       "       Amount.Requested  Loan.Length  Loan.Purpose  Debt.To.Income.Ratio  \\\n",
       "count           2358.00      2358.00       2358.00               2358.00   \n",
       "mean              85.17         1.55        164.23                 15.43   \n",
       "std               12.65         0.04        102.16                  7.48   \n",
       "min               47.73         1.53          1.00                  0.00   \n",
       "25%               75.68         1.53         81.00                  9.75   \n",
       "50%               84.83         1.53        256.00                 15.32   \n",
       "75%               94.54         1.53        256.00                 20.70   \n",
       "max              109.48         1.63        256.00                 34.91   \n",
       "\n",
       "       FICO.Range  Open.CREDIT.Lines  Revolving.CREDIT.Balance  \\\n",
       "count     2358.00            2358.00                   2358.00   \n",
       "mean         2.52               2.31                   7347.79   \n",
       "std          0.50               0.41                   2896.38   \n",
       "min          0.00               1.10                      0.00   \n",
       "25%          2.20               2.08                   5555.72   \n",
       "50%          2.56               2.30                   7433.36   \n",
       "75%          2.89               2.64                   9286.78   \n",
       "max          3.56               3.18                  15380.40   \n",
       "\n",
       "       Inquiries.in.the.Last.6.Months  Employment.Length  ho_mort  ho_rent  \n",
       "count                         2358.00            2358.00  2358.00  2358.00  \n",
       "mean                             0.32               5.21     0.44     0.47  \n",
       "std                              0.34               3.64     0.50     0.50  \n",
       "min                              0.00               0.00     0.00     0.00  \n",
       "25%                              0.00               2.00     0.00     0.00  \n",
       "50%                              0.00               5.00     0.00     0.00  \n",
       "75%                              0.53              10.00     1.00     1.00  \n",
       "max                              0.96              10.00     1.00     1.00  "
      ]
     },
     "execution_count": 253,
     "metadata": {},
     "output_type": "execute_result"
    }
   ],
   "source": [
    "x.describe()"
   ]
  },
  {
   "cell_type": "markdown",
   "metadata": {},
   "source": [
    "# Machine Learning (Model Building)"
   ]
  },
  {
   "cell_type": "markdown",
   "metadata": {},
   "source": [
    "## Importing Libraries"
   ]
  },
  {
   "cell_type": "code",
   "execution_count": 271,
   "metadata": {},
   "outputs": [],
   "source": [
    "from sklearn import metrics\n",
    "from sklearn.metrics import accuracy_score,confusion_matrix,classification_report\n",
    "from sklearn.naive_bayes import GaussianNB\n",
    "from sklearn.metrics import f1_score\n",
    "from sklearn.metrics import precision_score\n",
    "from sklearn.metrics import recall_score\n",
    "from sklearn.model_selection import cross_val_score\n",
    "from sklearn.model_selection import train_test_split\n",
    "from sklearn.linear_model import LinearRegression, Ridge, Lasso\n",
    "from sklearn.ensemble import AdaBoostRegressor\n",
    "from sklearn.model_selection import GridSearchCV\n",
    "from sklearn.neighbors import KNeighborsRegressor\n",
    "from sklearn.tree import DecisionTreeRegressor\n",
    "from sklearn.ensemble import RandomForestRegressor\n",
    "from sklearn.metrics import r2_score\n",
    "from sklearn.ensemble import GradientBoostingRegressor\n",
    "from sklearn.metrics import r2_score ,mean_absolute_error,mean_squared_error\n",
    "from math import sqrt\n",
    "from sklearn.metrics import mean_squared_error\n",
    "from sklearn.model_selection import KFold\n",
    "from sklearn.svm import SVR"
   ]
  },
  {
   "cell_type": "markdown",
   "metadata": {},
   "source": [
    "## Train & Test Data"
   ]
  },
  {
   "cell_type": "markdown",
   "metadata": {},
   "source": [
    "<span style='background:orange'>   We create a list of the Features and Target Variable (AveragePrice) </span>"
   ]
  },
  {
   "cell_type": "code",
   "execution_count": 254,
   "metadata": {},
   "outputs": [
    {
     "data": {
      "text/plain": [
       "Index(['Amount.Requested', 'Interest.Rate', 'Loan.Length', 'Loan.Purpose',\n",
       "       'Debt.To.Income.Ratio', 'Monthly.Income', 'FICO.Range',\n",
       "       'Open.CREDIT.Lines', 'Revolving.CREDIT.Balance',\n",
       "       'Inquiries.in.the.Last.6.Months', 'Employment.Length', 'ho_mort',\n",
       "       'ho_rent'],\n",
       "      dtype='object')"
      ]
     },
     "execution_count": 254,
     "metadata": {},
     "output_type": "execute_result"
    }
   ],
   "source": [
    "#listing the column names, so it is easy to copy paste later during Train/test data\n",
    "df3.columns"
   ]
  },
  {
   "cell_type": "code",
   "execution_count": 255,
   "metadata": {},
   "outputs": [],
   "source": [
    "features = ['Amount.Requested', 'Loan.Length', 'Loan.Purpose',\n",
    "       'Debt.To.Income.Ratio', 'Monthly.Income', 'Open.CREDIT.Lines',\n",
    "       'Revolving.CREDIT.Balance', 'Inquiries.in.the.Last.6.Months',\n",
    "       'Employment.Length', 'ho_mort', 'ho_rent']        \n",
    "target = ['Interest.Rate']"
   ]
  },
  {
   "cell_type": "code",
   "execution_count": 256,
   "metadata": {},
   "outputs": [
    {
     "data": {
      "text/html": [
       "<div>\n",
       "<style scoped>\n",
       "    .dataframe tbody tr th:only-of-type {\n",
       "        vertical-align: middle;\n",
       "    }\n",
       "\n",
       "    .dataframe tbody tr th {\n",
       "        vertical-align: top;\n",
       "    }\n",
       "\n",
       "    .dataframe thead th {\n",
       "        text-align: right;\n",
       "    }\n",
       "</style>\n",
       "<table border=\"1\" class=\"dataframe\">\n",
       "  <thead>\n",
       "    <tr style=\"text-align: right;\">\n",
       "      <th></th>\n",
       "      <th>Interest.Rate</th>\n",
       "    </tr>\n",
       "  </thead>\n",
       "  <tbody>\n",
       "    <tr>\n",
       "      <th>0</th>\n",
       "      <td>8.90</td>\n",
       "    </tr>\n",
       "    <tr>\n",
       "      <th>1</th>\n",
       "      <td>12.12</td>\n",
       "    </tr>\n",
       "    <tr>\n",
       "      <th>2</th>\n",
       "      <td>21.98</td>\n",
       "    </tr>\n",
       "    <tr>\n",
       "      <th>3</th>\n",
       "      <td>9.99</td>\n",
       "    </tr>\n",
       "    <tr>\n",
       "      <th>4</th>\n",
       "      <td>11.71</td>\n",
       "    </tr>\n",
       "  </tbody>\n",
       "</table>\n",
       "</div>"
      ],
      "text/plain": [
       "   Interest.Rate\n",
       "0           8.90\n",
       "1          12.12\n",
       "2          21.98\n",
       "3           9.99\n",
       "4          11.71"
      ]
     },
     "execution_count": 256,
     "metadata": {},
     "output_type": "execute_result"
    }
   ],
   "source": [
    "df3[features].head(5)\n",
    "df3[target].head(5)"
   ]
  },
  {
   "cell_type": "code",
   "execution_count": 257,
   "metadata": {},
   "outputs": [],
   "source": [
    "x = df3[features]\n",
    "y = df3[target]"
   ]
  },
  {
   "cell_type": "code",
   "execution_count": 258,
   "metadata": {},
   "outputs": [],
   "source": [
    "from sklearn.model_selection import train_test_split\n",
    "x_train, x_test, y_train, y_test = train_test_split(df3[features], df3[target], test_size=0.2, random_state=2)"
   ]
  },
  {
   "cell_type": "code",
   "execution_count": 259,
   "metadata": {},
   "outputs": [
    {
     "data": {
      "text/html": [
       "<div>\n",
       "<style scoped>\n",
       "    .dataframe tbody tr th:only-of-type {\n",
       "        vertical-align: middle;\n",
       "    }\n",
       "\n",
       "    .dataframe tbody tr th {\n",
       "        vertical-align: top;\n",
       "    }\n",
       "\n",
       "    .dataframe thead th {\n",
       "        text-align: right;\n",
       "    }\n",
       "</style>\n",
       "<table border=\"1\" class=\"dataframe\">\n",
       "  <thead>\n",
       "    <tr style=\"text-align: right;\">\n",
       "      <th></th>\n",
       "      <th>Amount.Requested</th>\n",
       "      <th>Loan.Length</th>\n",
       "      <th>Loan.Purpose</th>\n",
       "      <th>Debt.To.Income.Ratio</th>\n",
       "      <th>Monthly.Income</th>\n",
       "      <th>Open.CREDIT.Lines</th>\n",
       "      <th>Revolving.CREDIT.Balance</th>\n",
       "      <th>Inquiries.in.the.Last.6.Months</th>\n",
       "      <th>Employment.Length</th>\n",
       "      <th>ho_mort</th>\n",
       "      <th>ho_rent</th>\n",
       "    </tr>\n",
       "  </thead>\n",
       "  <tbody>\n",
       "    <tr>\n",
       "      <th>2189</th>\n",
       "      <td>10000.00</td>\n",
       "      <td>36</td>\n",
       "      <td>4</td>\n",
       "      <td>13.10</td>\n",
       "      <td>4458.33</td>\n",
       "      <td>7.00</td>\n",
       "      <td>6413.00</td>\n",
       "      <td>1.00</td>\n",
       "      <td>0</td>\n",
       "      <td>1</td>\n",
       "      <td>0</td>\n",
       "    </tr>\n",
       "    <tr>\n",
       "      <th>1441</th>\n",
       "      <td>8000.00</td>\n",
       "      <td>36</td>\n",
       "      <td>4</td>\n",
       "      <td>21.11</td>\n",
       "      <td>8583.33</td>\n",
       "      <td>15.00</td>\n",
       "      <td>14584.00</td>\n",
       "      <td>3.00</td>\n",
       "      <td>5</td>\n",
       "      <td>1</td>\n",
       "      <td>0</td>\n",
       "    </tr>\n",
       "    <tr>\n",
       "      <th>1591</th>\n",
       "      <td>3800.00</td>\n",
       "      <td>36</td>\n",
       "      <td>3</td>\n",
       "      <td>3.18</td>\n",
       "      <td>3583.33</td>\n",
       "      <td>9.00</td>\n",
       "      <td>3766.00</td>\n",
       "      <td>0.00</td>\n",
       "      <td>4</td>\n",
       "      <td>0</td>\n",
       "      <td>1</td>\n",
       "    </tr>\n",
       "    <tr>\n",
       "      <th>345</th>\n",
       "      <td>1675.00</td>\n",
       "      <td>36</td>\n",
       "      <td>4</td>\n",
       "      <td>4.81</td>\n",
       "      <td>2080.00</td>\n",
       "      <td>4.00</td>\n",
       "      <td>1466.00</td>\n",
       "      <td>0.00</td>\n",
       "      <td>3</td>\n",
       "      <td>0</td>\n",
       "      <td>1</td>\n",
       "    </tr>\n",
       "    <tr>\n",
       "      <th>842</th>\n",
       "      <td>25000.00</td>\n",
       "      <td>60</td>\n",
       "      <td>2</td>\n",
       "      <td>4.95</td>\n",
       "      <td>3333.33</td>\n",
       "      <td>9.00</td>\n",
       "      <td>3367.00</td>\n",
       "      <td>3.00</td>\n",
       "      <td>2</td>\n",
       "      <td>1</td>\n",
       "      <td>0</td>\n",
       "    </tr>\n",
       "  </tbody>\n",
       "</table>\n",
       "</div>"
      ],
      "text/plain": [
       "      Amount.Requested  Loan.Length  Loan.Purpose  Debt.To.Income.Ratio  \\\n",
       "2189          10000.00           36             4                 13.10   \n",
       "1441           8000.00           36             4                 21.11   \n",
       "1591           3800.00           36             3                  3.18   \n",
       "345            1675.00           36             4                  4.81   \n",
       "842           25000.00           60             2                  4.95   \n",
       "\n",
       "      Monthly.Income  Open.CREDIT.Lines  Revolving.CREDIT.Balance  \\\n",
       "2189         4458.33               7.00                   6413.00   \n",
       "1441         8583.33              15.00                  14584.00   \n",
       "1591         3583.33               9.00                   3766.00   \n",
       "345          2080.00               4.00                   1466.00   \n",
       "842          3333.33               9.00                   3367.00   \n",
       "\n",
       "      Inquiries.in.the.Last.6.Months  Employment.Length  ho_mort  ho_rent  \n",
       "2189                            1.00                  0        1        0  \n",
       "1441                            3.00                  5        1        0  \n",
       "1591                            0.00                  4        0        1  \n",
       "345                             0.00                  3        0        1  \n",
       "842                             3.00                  2        1        0  "
      ]
     },
     "execution_count": 259,
     "metadata": {},
     "output_type": "execute_result"
    }
   ],
   "source": [
    "x_train.head()"
   ]
  },
  {
   "cell_type": "code",
   "execution_count": 260,
   "metadata": {},
   "outputs": [
    {
     "data": {
      "text/html": [
       "<div>\n",
       "<style scoped>\n",
       "    .dataframe tbody tr th:only-of-type {\n",
       "        vertical-align: middle;\n",
       "    }\n",
       "\n",
       "    .dataframe tbody tr th {\n",
       "        vertical-align: top;\n",
       "    }\n",
       "\n",
       "    .dataframe thead th {\n",
       "        text-align: right;\n",
       "    }\n",
       "</style>\n",
       "<table border=\"1\" class=\"dataframe\">\n",
       "  <thead>\n",
       "    <tr style=\"text-align: right;\">\n",
       "      <th></th>\n",
       "      <th>Interest.Rate</th>\n",
       "    </tr>\n",
       "  </thead>\n",
       "  <tbody>\n",
       "    <tr>\n",
       "      <th>2189</th>\n",
       "      <td>15.80</td>\n",
       "    </tr>\n",
       "    <tr>\n",
       "      <th>1441</th>\n",
       "      <td>17.99</td>\n",
       "    </tr>\n",
       "    <tr>\n",
       "      <th>1591</th>\n",
       "      <td>6.99</td>\n",
       "    </tr>\n",
       "    <tr>\n",
       "      <th>345</th>\n",
       "      <td>11.11</td>\n",
       "    </tr>\n",
       "    <tr>\n",
       "      <th>842</th>\n",
       "      <td>11.49</td>\n",
       "    </tr>\n",
       "  </tbody>\n",
       "</table>\n",
       "</div>"
      ],
      "text/plain": [
       "      Interest.Rate\n",
       "2189          15.80\n",
       "1441          17.99\n",
       "1591           6.99\n",
       "345           11.11\n",
       "842           11.49"
      ]
     },
     "execution_count": 260,
     "metadata": {},
     "output_type": "execute_result"
    }
   ],
   "source": [
    "y_train.head()"
   ]
  },
  {
   "cell_type": "code",
   "execution_count": 261,
   "metadata": {},
   "outputs": [
    {
     "data": {
      "text/html": [
       "<div>\n",
       "<style scoped>\n",
       "    .dataframe tbody tr th:only-of-type {\n",
       "        vertical-align: middle;\n",
       "    }\n",
       "\n",
       "    .dataframe tbody tr th {\n",
       "        vertical-align: top;\n",
       "    }\n",
       "\n",
       "    .dataframe thead th {\n",
       "        text-align: right;\n",
       "    }\n",
       "</style>\n",
       "<table border=\"1\" class=\"dataframe\">\n",
       "  <thead>\n",
       "    <tr style=\"text-align: right;\">\n",
       "      <th></th>\n",
       "      <th>Amount.Requested</th>\n",
       "      <th>Loan.Length</th>\n",
       "      <th>Loan.Purpose</th>\n",
       "      <th>Debt.To.Income.Ratio</th>\n",
       "      <th>Monthly.Income</th>\n",
       "      <th>Open.CREDIT.Lines</th>\n",
       "      <th>Revolving.CREDIT.Balance</th>\n",
       "      <th>Inquiries.in.the.Last.6.Months</th>\n",
       "      <th>Employment.Length</th>\n",
       "      <th>ho_mort</th>\n",
       "      <th>ho_rent</th>\n",
       "    </tr>\n",
       "  </thead>\n",
       "  <tbody>\n",
       "    <tr>\n",
       "      <th>1165</th>\n",
       "      <td>18000.00</td>\n",
       "      <td>36</td>\n",
       "      <td>4</td>\n",
       "      <td>26.08</td>\n",
       "      <td>5925.00</td>\n",
       "      <td>14.00</td>\n",
       "      <td>23378.00</td>\n",
       "      <td>0.00</td>\n",
       "      <td>10</td>\n",
       "      <td>1</td>\n",
       "      <td>0</td>\n",
       "    </tr>\n",
       "    <tr>\n",
       "      <th>806</th>\n",
       "      <td>8000.00</td>\n",
       "      <td>36</td>\n",
       "      <td>3</td>\n",
       "      <td>0.24</td>\n",
       "      <td>4250.00</td>\n",
       "      <td>4.00</td>\n",
       "      <td>132.00</td>\n",
       "      <td>3.00</td>\n",
       "      <td>5</td>\n",
       "      <td>0</td>\n",
       "      <td>1</td>\n",
       "    </tr>\n",
       "    <tr>\n",
       "      <th>795</th>\n",
       "      <td>13500.00</td>\n",
       "      <td>60</td>\n",
       "      <td>4</td>\n",
       "      <td>12.59</td>\n",
       "      <td>8833.33</td>\n",
       "      <td>11.00</td>\n",
       "      <td>18978.00</td>\n",
       "      <td>0.00</td>\n",
       "      <td>2</td>\n",
       "      <td>1</td>\n",
       "      <td>0</td>\n",
       "    </tr>\n",
       "    <tr>\n",
       "      <th>2097</th>\n",
       "      <td>21000.00</td>\n",
       "      <td>60</td>\n",
       "      <td>4</td>\n",
       "      <td>16.18</td>\n",
       "      <td>7083.33</td>\n",
       "      <td>8.00</td>\n",
       "      <td>22298.00</td>\n",
       "      <td>1.00</td>\n",
       "      <td>9</td>\n",
       "      <td>1</td>\n",
       "      <td>0</td>\n",
       "    </tr>\n",
       "    <tr>\n",
       "      <th>1225</th>\n",
       "      <td>10000.00</td>\n",
       "      <td>36</td>\n",
       "      <td>4</td>\n",
       "      <td>17.88</td>\n",
       "      <td>2500.00</td>\n",
       "      <td>6.00</td>\n",
       "      <td>11120.00</td>\n",
       "      <td>0.00</td>\n",
       "      <td>3</td>\n",
       "      <td>0</td>\n",
       "      <td>1</td>\n",
       "    </tr>\n",
       "  </tbody>\n",
       "</table>\n",
       "</div>"
      ],
      "text/plain": [
       "      Amount.Requested  Loan.Length  Loan.Purpose  Debt.To.Income.Ratio  \\\n",
       "1165          18000.00           36             4                 26.08   \n",
       "806            8000.00           36             3                  0.24   \n",
       "795           13500.00           60             4                 12.59   \n",
       "2097          21000.00           60             4                 16.18   \n",
       "1225          10000.00           36             4                 17.88   \n",
       "\n",
       "      Monthly.Income  Open.CREDIT.Lines  Revolving.CREDIT.Balance  \\\n",
       "1165         5925.00              14.00                  23378.00   \n",
       "806          4250.00               4.00                    132.00   \n",
       "795          8833.33              11.00                  18978.00   \n",
       "2097         7083.33               8.00                  22298.00   \n",
       "1225         2500.00               6.00                  11120.00   \n",
       "\n",
       "      Inquiries.in.the.Last.6.Months  Employment.Length  ho_mort  ho_rent  \n",
       "1165                            0.00                 10        1        0  \n",
       "806                             3.00                  5        0        1  \n",
       "795                             0.00                  2        1        0  \n",
       "2097                            1.00                  9        1        0  \n",
       "1225                            0.00                  3        0        1  "
      ]
     },
     "execution_count": 261,
     "metadata": {},
     "output_type": "execute_result"
    }
   ],
   "source": [
    "x_test.head()"
   ]
  },
  {
   "cell_type": "code",
   "execution_count": 262,
   "metadata": {},
   "outputs": [
    {
     "data": {
      "text/html": [
       "<div>\n",
       "<style scoped>\n",
       "    .dataframe tbody tr th:only-of-type {\n",
       "        vertical-align: middle;\n",
       "    }\n",
       "\n",
       "    .dataframe tbody tr th {\n",
       "        vertical-align: top;\n",
       "    }\n",
       "\n",
       "    .dataframe thead th {\n",
       "        text-align: right;\n",
       "    }\n",
       "</style>\n",
       "<table border=\"1\" class=\"dataframe\">\n",
       "  <thead>\n",
       "    <tr style=\"text-align: right;\">\n",
       "      <th></th>\n",
       "      <th>Interest.Rate</th>\n",
       "    </tr>\n",
       "  </thead>\n",
       "  <tbody>\n",
       "    <tr>\n",
       "      <th>1165</th>\n",
       "      <td>10.16</td>\n",
       "    </tr>\n",
       "    <tr>\n",
       "      <th>806</th>\n",
       "      <td>9.63</td>\n",
       "    </tr>\n",
       "    <tr>\n",
       "      <th>795</th>\n",
       "      <td>13.99</td>\n",
       "    </tr>\n",
       "    <tr>\n",
       "      <th>2097</th>\n",
       "      <td>11.14</td>\n",
       "    </tr>\n",
       "    <tr>\n",
       "      <th>1225</th>\n",
       "      <td>10.74</td>\n",
       "    </tr>\n",
       "  </tbody>\n",
       "</table>\n",
       "</div>"
      ],
      "text/plain": [
       "      Interest.Rate\n",
       "1165          10.16\n",
       "806            9.63\n",
       "795           13.99\n",
       "2097          11.14\n",
       "1225          10.74"
      ]
     },
     "execution_count": 262,
     "metadata": {},
     "output_type": "execute_result"
    }
   ],
   "source": [
    "y_test.head()"
   ]
  },
  {
   "cell_type": "markdown",
   "metadata": {},
   "source": [
    "## Finding best Random state"
   ]
  },
  {
   "cell_type": "code",
   "execution_count": 263,
   "metadata": {},
   "outputs": [
    {
     "data": {
      "text/plain": [
       "Amount.Requested                  False\n",
       "Interest.Rate                     False\n",
       "Loan.Length                       False\n",
       "Loan.Purpose                      False\n",
       "Debt.To.Income.Ratio              False\n",
       "Monthly.Income                    False\n",
       "FICO.Range                        False\n",
       "Open.CREDIT.Lines                 False\n",
       "Revolving.CREDIT.Balance          False\n",
       "Inquiries.in.the.Last.6.Months    False\n",
       "Employment.Length                 False\n",
       "ho_mort                           False\n",
       "ho_rent                           False\n",
       "dtype: bool"
      ]
     },
     "execution_count": 263,
     "metadata": {},
     "output_type": "execute_result"
    }
   ],
   "source": [
    "pd.isnull(df3).sum() > 0"
   ]
  },
  {
   "cell_type": "code",
   "execution_count": 264,
   "metadata": {},
   "outputs": [
    {
     "name": "stdout",
     "output_type": "stream",
     "text": [
      "Best accuracy is  0.3700554271639198 on Random_state   111\n"
     ]
    }
   ],
   "source": [
    "maxAccu=0\n",
    "BestRs=0\n",
    "\n",
    "for i in range(1,200):\n",
    "    x_train,x_test,y_train,y_test=train_test_split(x,y,test_size=0.20,random_state=i)    \n",
    "    mod=LinearRegression()\n",
    "    mod.fit(x_train,y_train)\n",
    "    pred=mod.predict(x_test)\n",
    "    acc=r2_score(y_test,pred)\n",
    "    if acc>maxAccu:\n",
    "        maxAccu=acc\n",
    "        BestRs=i\n",
    "print(\"Best accuracy is \", maxAccu,\"on Random_state  \",BestRs)"
   ]
  },
  {
   "cell_type": "code",
   "execution_count": 265,
   "metadata": {},
   "outputs": [
    {
     "name": "stdout",
     "output_type": "stream",
     "text": [
      "Train cases as below\n",
      "x_train shape :  (1886, 11)\n",
      "y_train shape:  (1886, 1)\n",
      "***************************\n",
      "Test cases as below\n",
      "x_test shape:  (472, 11)\n",
      "y_test shape:  (472, 1)\n"
     ]
    }
   ],
   "source": [
    "x_train,x_test,y_train,y_test=train_test_split(x,y,test_size=.20,random_state=BestRs)\n",
    "\n",
    "print('Train cases as below')\n",
    "print('x_train shape : ',x_train.shape)\n",
    "print('y_train shape: ',y_train.shape)\n",
    "print('***************************')\n",
    "print('Test cases as below')\n",
    "print('x_test shape: ',x_test.shape)\n",
    "print('y_test shape: ',y_test.shape)"
   ]
  },
  {
   "cell_type": "markdown",
   "metadata": {},
   "source": [
    "## Model Building and Finding Difference of Cross Validation from R2 & RMSE"
   ]
  },
  {
   "cell_type": "code",
   "execution_count": 272,
   "metadata": {},
   "outputs": [],
   "source": [
    "lm=LinearRegression()\n",
    "ridge = Ridge()\n",
    "gb= GradientBoostingRegressor()\n",
    "dt  = DecisionTreeRegressor()\n",
    "rf  = RandomForestRegressor()\n",
    "knn = KNeighborsRegressor()\n",
    "ls=Lasso()\n",
    "svr=SVR()"
   ]
  },
  {
   "cell_type": "code",
   "execution_count": 273,
   "metadata": {},
   "outputs": [
    {
     "data": {
      "text/html": [
       "<div>\n",
       "<style scoped>\n",
       "    .dataframe tbody tr th:only-of-type {\n",
       "        vertical-align: middle;\n",
       "    }\n",
       "\n",
       "    .dataframe tbody tr th {\n",
       "        vertical-align: top;\n",
       "    }\n",
       "\n",
       "    .dataframe thead th {\n",
       "        text-align: right;\n",
       "    }\n",
       "</style>\n",
       "<table border=\"1\" class=\"dataframe\">\n",
       "  <thead>\n",
       "    <tr style=\"text-align: right;\">\n",
       "      <th></th>\n",
       "      <th>Name</th>\n",
       "      <th>Error</th>\n",
       "      <th>R2</th>\n",
       "      <th>MAE</th>\n",
       "      <th>MSE</th>\n",
       "      <th>RMSE</th>\n",
       "      <th>Cross Validation</th>\n",
       "      <th>R2 and CV Difference</th>\n",
       "      <th>RMSE and CV Difference</th>\n",
       "    </tr>\n",
       "  </thead>\n",
       "  <tbody>\n",
       "    <tr>\n",
       "      <th>0</th>\n",
       "      <td>Linear Regression</td>\n",
       "      <td>0.27</td>\n",
       "      <td>0.34</td>\n",
       "      <td>2.75</td>\n",
       "      <td>11.25</td>\n",
       "      <td>3.35</td>\n",
       "      <td>0.28</td>\n",
       "      <td>0.06</td>\n",
       "      <td>6.86</td>\n",
       "    </tr>\n",
       "    <tr>\n",
       "      <th>1</th>\n",
       "      <td>Lasso</td>\n",
       "      <td>0.22</td>\n",
       "      <td>0.29</td>\n",
       "      <td>2.86</td>\n",
       "      <td>12.13</td>\n",
       "      <td>3.48</td>\n",
       "      <td>0.23</td>\n",
       "      <td>0.06</td>\n",
       "      <td>7.11</td>\n",
       "    </tr>\n",
       "    <tr>\n",
       "      <th>2</th>\n",
       "      <td>Ridge</td>\n",
       "      <td>0.27</td>\n",
       "      <td>0.34</td>\n",
       "      <td>2.75</td>\n",
       "      <td>11.25</td>\n",
       "      <td>3.35</td>\n",
       "      <td>0.28</td>\n",
       "      <td>0.06</td>\n",
       "      <td>6.85</td>\n",
       "    </tr>\n",
       "    <tr>\n",
       "      <th>3</th>\n",
       "      <td>Gradient boosting</td>\n",
       "      <td>0.48</td>\n",
       "      <td>0.38</td>\n",
       "      <td>2.63</td>\n",
       "      <td>10.67</td>\n",
       "      <td>3.27</td>\n",
       "      <td>0.32</td>\n",
       "      <td>0.06</td>\n",
       "      <td>6.68</td>\n",
       "    </tr>\n",
       "    <tr>\n",
       "      <th>4</th>\n",
       "      <td>Decision Tree</td>\n",
       "      <td>1.00</td>\n",
       "      <td>-0.35</td>\n",
       "      <td>3.86</td>\n",
       "      <td>23.06</td>\n",
       "      <td>4.80</td>\n",
       "      <td>-0.47</td>\n",
       "      <td>0.13</td>\n",
       "      <td>9.72</td>\n",
       "    </tr>\n",
       "    <tr>\n",
       "      <th>5</th>\n",
       "      <td>Random Forest</td>\n",
       "      <td>0.89</td>\n",
       "      <td>0.35</td>\n",
       "      <td>2.67</td>\n",
       "      <td>11.08</td>\n",
       "      <td>3.33</td>\n",
       "      <td>0.29</td>\n",
       "      <td>0.06</td>\n",
       "      <td>6.85</td>\n",
       "    </tr>\n",
       "    <tr>\n",
       "      <th>6</th>\n",
       "      <td>Kneighbor</td>\n",
       "      <td>0.32</td>\n",
       "      <td>0.05</td>\n",
       "      <td>3.26</td>\n",
       "      <td>16.30</td>\n",
       "      <td>4.04</td>\n",
       "      <td>-0.01</td>\n",
       "      <td>0.06</td>\n",
       "      <td>8.17</td>\n",
       "    </tr>\n",
       "  </tbody>\n",
       "</table>\n",
       "</div>"
      ],
      "text/plain": [
       "                Name  Error    R2  MAE   MSE  RMSE  Cross Validation  \\\n",
       "0  Linear Regression   0.27  0.34 2.75 11.25  3.35              0.28   \n",
       "1              Lasso   0.22  0.29 2.86 12.13  3.48              0.23   \n",
       "2              Ridge   0.27  0.34 2.75 11.25  3.35              0.28   \n",
       "3  Gradient boosting   0.48  0.38 2.63 10.67  3.27              0.32   \n",
       "4      Decision Tree   1.00 -0.35 3.86 23.06  4.80             -0.47   \n",
       "5      Random Forest   0.89  0.35 2.67 11.08  3.33              0.29   \n",
       "6          Kneighbor   0.32  0.05 3.26 16.30  4.04             -0.01   \n",
       "\n",
       "   R2 and CV Difference  RMSE and CV Difference  \n",
       "0                  0.06                    6.86  \n",
       "1                  0.06                    7.11  \n",
       "2                  0.06                    6.85  \n",
       "3                  0.06                    6.68  \n",
       "4                  0.13                    9.72  \n",
       "5                  0.06                    6.85  \n",
       "6                  0.06                    8.17  "
      ]
     },
     "execution_count": 273,
     "metadata": {},
     "output_type": "execute_result"
    }
   ],
   "source": [
    "modelList=[(\"Linear Regression\", lm), (\"Lasso\",ls),(\"Ridge\", ridge),(\"Gradient boosting\",gb),(\"Decision Tree\", dt),(\"Random Forest\",rf),(\"Kneighbor\",knn)]\n",
    "\n",
    "def GetAccuracy(x,y,modelList):\n",
    "    x_train,x_test,y_train,y_test=train_test_split(x,y,random_state=BestRs)\n",
    "    modelerror=[]\n",
    "    ModelName= []\n",
    "    modelR2=[]\n",
    "    modelMAE=[]\n",
    "    modelMSE=[]\n",
    "    modelRMSE=[]\n",
    "    modelCrossval=[]\n",
    "    R2CVDiff=[]\n",
    "    modelCrossval1=[]\n",
    "    RMSECVDiff=[]\n",
    "    \n",
    "    for Nameofmodel, modelInstance in modelList:\n",
    "        ModelName.append(Nameofmodel)\n",
    "        modelInstance.fit(x_train,y_train)\n",
    "        pred=modelInstance.predict(x_test)\n",
    "        error=modelInstance.score(x_train,y_train)\n",
    "        modelerror.append(error)\n",
    "        r2=r2_score(y_test,pred)\n",
    "        modelR2.append(r2)\n",
    "        mae = mean_absolute_error(y_test,pred)\n",
    "        modelMAE.append(mae)\n",
    "        MSE=mean_squared_error(y_test,pred)\n",
    "        modelMSE.append(MSE)\n",
    "        RMSE=sqrt(mean_squared_error(y_test,pred))\n",
    "        modelRMSE.append(RMSE)\n",
    "        \n",
    "        crossAcc=cross_val_score(modelInstance,x,y,cv=(KFold(n_splits=10,shuffle=True)),scoring='r2').mean()\n",
    "        crossAcc1=cross_val_score(modelInstance,x,y,cv=(KFold(n_splits=10,shuffle=True)),scoring='neg_root_mean_squared_error').mean()\n",
    "        modelCrossval.append(crossAcc)\n",
    "        R2CVDiff.append(r2-crossAcc)\n",
    "        modelCrossval1.append(crossAcc1)\n",
    "        RMSECVDiff.append(RMSE-crossAcc1)\n",
    "        \n",
    "    df_acc=pd.DataFrame({\"Name\":ModelName,\n",
    "                         \"Error\":modelerror,\n",
    "                         \"R2\": modelR2,\n",
    "                         \"MAE\": modelMAE,\n",
    "                         \"MSE\": modelMSE,\n",
    "                         \"RMSE\": modelRMSE,                         \n",
    "                         \"Cross Validation\":modelCrossval,\n",
    "                         \"R2 and CV Difference\":R2CVDiff,\n",
    "                         \"RMSE and CV Difference\":RMSECVDiff\n",
    "                          })\n",
    "    return df_acc\n",
    "GetAccuracy(x,y,modelList)"
   ]
  },
  {
   "cell_type": "markdown",
   "metadata": {},
   "source": [
    "<span style='background:orange'> Observation: </span>\n",
    "\n",
    "- We have used 7 models for Model Building\n",
    "- We have used 5 Evaluation Techniques\n",
    "- We have evaluated the difference between R2 and Cross Validation. Also, the difference between RMSE and Cross Validation\n",
    "- The best way to select a model is to have high R2 and low RMSE\n",
    "- Random Forest have high R2 and low RMSE\n",
    "- Also, the difference between R2 and Cross Validation and the difference between RMSE and Cross Validation is low in case of Random Forest Model\n",
    "- We will use Gradient boosting model for our model tuning\n"
   ]
  },
  {
   "cell_type": "markdown",
   "metadata": {},
   "source": [
    "## Feature Engineering- Model building by removing low co-related column"
   ]
  },
  {
   "cell_type": "code",
   "execution_count": 274,
   "metadata": {},
   "outputs": [
    {
     "data": {
      "text/plain": [
       "Index(['Amount.Requested', 'Interest.Rate', 'Loan.Length', 'Loan.Purpose',\n",
       "       'Debt.To.Income.Ratio', 'Monthly.Income', 'FICO.Range',\n",
       "       'Open.CREDIT.Lines', 'Revolving.CREDIT.Balance',\n",
       "       'Inquiries.in.the.Last.6.Months', 'Employment.Length', 'ho_mort',\n",
       "       'ho_rent'],\n",
       "      dtype='object')"
      ]
     },
     "execution_count": 274,
     "metadata": {},
     "output_type": "execute_result"
    }
   ],
   "source": [
    "x.columns\n",
    "df3.columns"
   ]
  },
  {
   "cell_type": "code",
   "execution_count": 275,
   "metadata": {},
   "outputs": [],
   "source": [
    "b=df3.drop(columns=[\"Interest.Rate\",'Monthly.Income'])\n",
    "y=df3[\"Interest.Rate\"]"
   ]
  },
  {
   "cell_type": "code",
   "execution_count": 276,
   "metadata": {},
   "outputs": [
    {
     "data": {
      "text/html": [
       "<div>\n",
       "<style scoped>\n",
       "    .dataframe tbody tr th:only-of-type {\n",
       "        vertical-align: middle;\n",
       "    }\n",
       "\n",
       "    .dataframe tbody tr th {\n",
       "        vertical-align: top;\n",
       "    }\n",
       "\n",
       "    .dataframe thead th {\n",
       "        text-align: right;\n",
       "    }\n",
       "</style>\n",
       "<table border=\"1\" class=\"dataframe\">\n",
       "  <thead>\n",
       "    <tr style=\"text-align: right;\">\n",
       "      <th></th>\n",
       "      <th>FEName</th>\n",
       "      <th>Error</th>\n",
       "      <th>R2</th>\n",
       "      <th>MAE</th>\n",
       "      <th>MSE</th>\n",
       "      <th>RMSE</th>\n",
       "      <th>CrossValidation</th>\n",
       "      <th>R2CVDiff</th>\n",
       "      <th>RMSECVDiff</th>\n",
       "    </tr>\n",
       "  </thead>\n",
       "  <tbody>\n",
       "    <tr>\n",
       "      <th>0</th>\n",
       "      <td>Lin Reg</td>\n",
       "      <td>0.76</td>\n",
       "      <td>0.81</td>\n",
       "      <td>1.39</td>\n",
       "      <td>3.25</td>\n",
       "      <td>1.80</td>\n",
       "      <td>0.77</td>\n",
       "      <td>0.04</td>\n",
       "      <td>3.78</td>\n",
       "    </tr>\n",
       "    <tr>\n",
       "      <th>1</th>\n",
       "      <td>Lasso</td>\n",
       "      <td>0.74</td>\n",
       "      <td>0.79</td>\n",
       "      <td>1.47</td>\n",
       "      <td>3.52</td>\n",
       "      <td>1.88</td>\n",
       "      <td>0.75</td>\n",
       "      <td>0.04</td>\n",
       "      <td>3.93</td>\n",
       "    </tr>\n",
       "    <tr>\n",
       "      <th>2</th>\n",
       "      <td>Ridge</td>\n",
       "      <td>0.76</td>\n",
       "      <td>0.81</td>\n",
       "      <td>1.39</td>\n",
       "      <td>3.25</td>\n",
       "      <td>1.80</td>\n",
       "      <td>0.77</td>\n",
       "      <td>0.04</td>\n",
       "      <td>3.78</td>\n",
       "    </tr>\n",
       "    <tr>\n",
       "      <th>3</th>\n",
       "      <td>Gradient boost</td>\n",
       "      <td>0.87</td>\n",
       "      <td>0.88</td>\n",
       "      <td>1.11</td>\n",
       "      <td>2.13</td>\n",
       "      <td>1.46</td>\n",
       "      <td>0.83</td>\n",
       "      <td>0.04</td>\n",
       "      <td>3.14</td>\n",
       "    </tr>\n",
       "    <tr>\n",
       "      <th>4</th>\n",
       "      <td>Decision Tree</td>\n",
       "      <td>1.00</td>\n",
       "      <td>0.67</td>\n",
       "      <td>1.72</td>\n",
       "      <td>5.63</td>\n",
       "      <td>2.37</td>\n",
       "      <td>0.63</td>\n",
       "      <td>0.04</td>\n",
       "      <td>4.80</td>\n",
       "    </tr>\n",
       "    <tr>\n",
       "      <th>5</th>\n",
       "      <td>Random Forest</td>\n",
       "      <td>0.97</td>\n",
       "      <td>0.85</td>\n",
       "      <td>1.19</td>\n",
       "      <td>2.51</td>\n",
       "      <td>1.58</td>\n",
       "      <td>0.81</td>\n",
       "      <td>0.04</td>\n",
       "      <td>3.34</td>\n",
       "    </tr>\n",
       "    <tr>\n",
       "      <th>6</th>\n",
       "      <td>Kneigbor</td>\n",
       "      <td>0.32</td>\n",
       "      <td>-0.03</td>\n",
       "      <td>3.38</td>\n",
       "      <td>17.63</td>\n",
       "      <td>4.20</td>\n",
       "      <td>-0.02</td>\n",
       "      <td>-0.01</td>\n",
       "      <td>8.36</td>\n",
       "    </tr>\n",
       "  </tbody>\n",
       "</table>\n",
       "</div>"
      ],
      "text/plain": [
       "           FEName  Error    R2  MAE   MSE  RMSE  CrossValidation  R2CVDiff  \\\n",
       "0         Lin Reg   0.76  0.81 1.39  3.25  1.80             0.77      0.04   \n",
       "1           Lasso   0.74  0.79 1.47  3.52  1.88             0.75      0.04   \n",
       "2           Ridge   0.76  0.81 1.39  3.25  1.80             0.77      0.04   \n",
       "3  Gradient boost   0.87  0.88 1.11  2.13  1.46             0.83      0.04   \n",
       "4   Decision Tree   1.00  0.67 1.72  5.63  2.37             0.63      0.04   \n",
       "5   Random Forest   0.97  0.85 1.19  2.51  1.58             0.81      0.04   \n",
       "6        Kneigbor   0.32 -0.03 3.38 17.63  4.20            -0.02     -0.01   \n",
       "\n",
       "   RMSECVDiff  \n",
       "0        3.78  \n",
       "1        3.93  \n",
       "2        3.78  \n",
       "3        3.14  \n",
       "4        4.80  \n",
       "5        3.34  \n",
       "6        8.36  "
      ]
     },
     "execution_count": 276,
     "metadata": {},
     "output_type": "execute_result"
    }
   ],
   "source": [
    "modelList=[(\"Lin Reg\", lm), (\"Lasso\",ls),(\"Ridge\", ridge),(\"Gradient boost\",gb),(\"Decision Tree\", dt),(\"Random Forest\",rf),(\"Kneigbor\",knn)]\n",
    "\n",
    "def GetAccuracy(b,y,modelList):\n",
    "    b_train,b_test,y_train,y_test=train_test_split(b,y,random_state=BestRs)\n",
    "    modelerror=[]\n",
    "    ModelName= []\n",
    "    modelR2=[]\n",
    "    modelMAE=[]\n",
    "    modelMSE=[]\n",
    "    modelRMSE=[]\n",
    "    modelCrossval=[]\n",
    "    R2CVDiff=[]\n",
    "    modelCrossval1=[]\n",
    "    RMSECVDiff=[]\n",
    "    \n",
    "    for Nameofmodel, modelInstance in modelList:\n",
    "        ModelName.append(Nameofmodel)\n",
    "        modelInstance.fit(b_train,y_train)\n",
    "        pred=modelInstance.predict(b_test)\n",
    "        error=modelInstance.score(b_train,y_train)\n",
    "        modelerror.append(error)\n",
    "        r2=r2_score(y_test,pred)\n",
    "        modelR2.append(r2)\n",
    "        mae = mean_absolute_error(y_test,pred)\n",
    "        modelMAE.append(mae)\n",
    "        MSE=mean_squared_error(y_test,pred)\n",
    "        modelMSE.append(MSE)\n",
    "        RMSE=sqrt(mean_squared_error(y_test,pred))\n",
    "        modelRMSE.append(RMSE)\n",
    "        \n",
    "        crossAcc=cross_val_score(modelInstance,b,y,cv=(KFold(n_splits=10,shuffle=True)),scoring='r2').mean()\n",
    "        crossAcc1=cross_val_score(modelInstance,b,y,cv=(KFold(n_splits=10,shuffle=True)),scoring='neg_root_mean_squared_error').mean()\n",
    "        modelCrossval.append(crossAcc)\n",
    "        R2CVDiff.append(r2-crossAcc)\n",
    "        modelCrossval1.append(crossAcc1)\n",
    "        RMSECVDiff.append(RMSE-crossAcc1)\n",
    "        \n",
    "    df_acc=pd.DataFrame({\"FEName\":ModelName,\n",
    "                         \"Error\":modelerror,\n",
    "                         \"R2\": modelR2,\n",
    "                         \"MAE\": modelMAE,\n",
    "                         \"MSE\": modelMSE,\n",
    "                         \"RMSE\": modelRMSE,                         \n",
    "                         \"CrossValidation\":modelCrossval,\n",
    "                         \"R2CVDiff\":R2CVDiff,\n",
    "                         \"RMSECVDiff\":RMSECVDiff\n",
    "                          })\n",
    "    return df_acc\n",
    "GetAccuracy(b,y,modelList)"
   ]
  },
  {
   "cell_type": "markdown",
   "metadata": {},
   "source": [
    "<span style='background:orange'> Observation: </span>\n",
    "\n",
    "- After dropping one column, our score for Gradient boost has not improved \n",
    "- So for the same reasons (High R2 and low RMSE) we are choosing Gradient boost again for our Hyperparameter tuning\n",
    "- We will also take Random Forest for Hyperparameter tuning\n"
   ]
  },
  {
   "cell_type": "markdown",
   "metadata": {},
   "source": [
    "## Hyper Parameter Tuning"
   ]
  },
  {
   "cell_type": "code",
   "execution_count": 277,
   "metadata": {},
   "outputs": [],
   "source": [
    "from sklearn.model_selection import GridSearchCV"
   ]
  },
  {
   "cell_type": "markdown",
   "metadata": {},
   "source": [
    "### Random Forest Regressor"
   ]
  },
  {
   "cell_type": "code",
   "execution_count": 278,
   "metadata": {},
   "outputs": [],
   "source": [
    "b_train,b_test,y_train,y_test=train_test_split(b,y,random_state=BestRs)"
   ]
  },
  {
   "cell_type": "code",
   "execution_count": 279,
   "metadata": {},
   "outputs": [],
   "source": [
    "parameters ={\n",
    "              'criterion':['mse','mae'],'max_features':[\"auto\",\"sqrt\",\"log2\"]\n",
    "             }"
   ]
  },
  {
   "cell_type": "code",
   "execution_count": 280,
   "metadata": {},
   "outputs": [],
   "source": [
    "GCV=GridSearchCV(RandomForestRegressor(),parameters,cv=(KFold(n_splits=15,shuffle=True)))"
   ]
  },
  {
   "cell_type": "code",
   "execution_count": 281,
   "metadata": {},
   "outputs": [
    {
     "data": {
      "text/plain": [
       "GridSearchCV(cv=KFold(n_splits=15, random_state=None, shuffle=True),\n",
       "             estimator=RandomForestRegressor(),\n",
       "             param_grid={'criterion': ['mse', 'mae'],\n",
       "                         'max_features': ['auto', 'sqrt', 'log2']})"
      ]
     },
     "execution_count": 281,
     "metadata": {},
     "output_type": "execute_result"
    }
   ],
   "source": [
    "GCV.fit(b_train,y_train)"
   ]
  },
  {
   "cell_type": "code",
   "execution_count": 282,
   "metadata": {},
   "outputs": [
    {
     "data": {
      "text/plain": [
       "{'criterion': 'mae', 'max_features': 'auto'}"
      ]
     },
     "execution_count": 282,
     "metadata": {},
     "output_type": "execute_result"
    }
   ],
   "source": [
    "GCV.best_params_"
   ]
  },
  {
   "cell_type": "code",
   "execution_count": 283,
   "metadata": {},
   "outputs": [
    {
     "name": "stdout",
     "output_type": "stream",
     "text": [
      "0.8419948070843398\n"
     ]
    }
   ],
   "source": [
    "mod1=RandomForestRegressor(criterion=\"mse\",max_features=\"sqrt\")\n",
    "mod1.fit(b_train,y_train)\n",
    "pred=mod1.predict(b_test)\n",
    "print(r2_score(y_test,pred))"
   ]
  },
  {
   "cell_type": "markdown",
   "metadata": {},
   "source": [
    "### Gradient Boosting Regressor"
   ]
  },
  {
   "cell_type": "code",
   "execution_count": 284,
   "metadata": {},
   "outputs": [],
   "source": [
    "b_train,b_test,y_train,y_test=train_test_split(b,y,random_state=BestRs)"
   ]
  },
  {
   "cell_type": "code",
   "execution_count": 285,
   "metadata": {},
   "outputs": [],
   "source": [
    "parameters = {\n",
    "                \"min_samples_split\": range(6, 11)}"
   ]
  },
  {
   "cell_type": "code",
   "execution_count": 286,
   "metadata": {},
   "outputs": [],
   "source": [
    "GCV=GridSearchCV(GradientBoostingRegressor(),parameters,cv=5)"
   ]
  },
  {
   "cell_type": "code",
   "execution_count": 287,
   "metadata": {},
   "outputs": [
    {
     "data": {
      "text/plain": [
       "GridSearchCV(cv=5, estimator=GradientBoostingRegressor(),\n",
       "             param_grid={'min_samples_split': range(6, 11)})"
      ]
     },
     "execution_count": 287,
     "metadata": {},
     "output_type": "execute_result"
    }
   ],
   "source": [
    "GCV.fit(b_train,y_train)"
   ]
  },
  {
   "cell_type": "code",
   "execution_count": 288,
   "metadata": {},
   "outputs": [
    {
     "data": {
      "text/plain": [
       "{'min_samples_split': 7}"
      ]
     },
     "execution_count": 288,
     "metadata": {},
     "output_type": "execute_result"
    }
   ],
   "source": [
    "GCV.best_params_"
   ]
  },
  {
   "cell_type": "code",
   "execution_count": 289,
   "metadata": {},
   "outputs": [
    {
     "name": "stdout",
     "output_type": "stream",
     "text": [
      "0.8761537045611499\n"
     ]
    }
   ],
   "source": [
    "mod3=GradientBoostingRegressor(min_samples_split=8)\n",
    "mod3.fit(b_train,y_train)\n",
    "pred=mod3.predict(b_test)\n",
    "print(r2_score(y_test,pred))"
   ]
  },
  {
   "cell_type": "markdown",
   "metadata": {},
   "source": [
    "<span style='background:orange'> Observation: </span>\n",
    "\n",
    "- Hyper Parameter Tuning on the Feature Engineered Model, has improved for all \n",
    "- Gradient Boosting Regressor is the highest which is 0.87"
   ]
  },
  {
   "cell_type": "markdown",
   "metadata": {},
   "source": [
    "# Conclusion"
   ]
  },
  {
   "cell_type": "markdown",
   "metadata": {},
   "source": [
    "- After loading the data properly, we found that it had a lot of “NAN” values. So, we removed the “NAN” values\n",
    "- From further analysis we found it is a Regression data set\n",
    "- After removing the “NAN” values, few columns which were not required were dropped\n",
    "- We had to do Label Encoding for few columns\n",
    "- Outliers handled applying Zscore and Skewness through log transformation\n",
    "- Model Building Was done in 2 ways after finding the Best Random state\n",
    "- In Model 1, we have used 7 models and 5 Evaluation Techniques. Also, we have found the difference between R2 and Cross Validation, RMSE and Cross Validation and found Gradient Boosting Regressor Model is the best model\n",
    "- In Model 2, we have used Feature Engineered by dropping a column for which the co-relation was close to “0”. And we found an improvement for Gradient Boosting Regressor Model\n",
    "- Hyper Tuning was done on 2 models\n",
    "- As per the evaluation with (80:20) training and testing data Gradient Boosting Regressor model is the best model\n",
    "- Gradient Boosting Regressor is the highest which is 0.87"
   ]
  },
  {
   "cell_type": "markdown",
   "metadata": {},
   "source": [
    "# Convert the dataset into Excel "
   ]
  },
  {
   "cell_type": "code",
   "execution_count": 63,
   "metadata": {},
   "outputs": [],
   "source": [
    "GFG = pd.ExcelWriter('bank_data.xlsx')\n",
    "df1.to_excel(GFG, index = False)\n",
    "  \n",
    "GFG.save()"
   ]
  },
  {
   "cell_type": "code",
   "execution_count": null,
   "metadata": {},
   "outputs": [],
   "source": []
  }
 ],
 "metadata": {
  "kernelspec": {
   "display_name": "Python 3",
   "language": "python",
   "name": "python3"
  },
  "language_info": {
   "codemirror_mode": {
    "name": "ipython",
    "version": 3
   },
   "file_extension": ".py",
   "mimetype": "text/x-python",
   "name": "python",
   "nbconvert_exporter": "python",
   "pygments_lexer": "ipython3",
   "version": "3.8.5"
  },
  "toc": {
   "base_numbering": 1,
   "nav_menu": {},
   "number_sections": true,
   "sideBar": true,
   "skip_h1_title": false,
   "title_cell": "Table of Contents",
   "title_sidebar": "Contents",
   "toc_cell": false,
   "toc_position": {
    "height": "calc(100% - 180px)",
    "left": "10px",
    "top": "150px",
    "width": "384px"
   },
   "toc_section_display": true,
   "toc_window_display": true
  }
 },
 "nbformat": 4,
 "nbformat_minor": 4
}
